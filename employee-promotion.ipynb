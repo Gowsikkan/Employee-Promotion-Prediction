{
 "cells": [
  {
   "cell_type": "code",
   "execution_count": 1,
   "metadata": {
    "_cell_guid": "b1076dfc-b9ad-4769-8c92-a6c4dae69d19",
    "_uuid": "8f2839f25d086af736a60e9eeb907d3b93b6e0e5",
    "execution": {
     "iopub.execute_input": "2021-09-27T11:39:01.088517Z",
     "iopub.status.busy": "2021-09-27T11:39:01.082532Z",
     "iopub.status.idle": "2021-09-27T11:39:01.103028Z",
     "shell.execute_reply": "2021-09-27T11:39:01.103765Z",
     "shell.execute_reply.started": "2021-09-27T10:12:41.466372Z"
    },
    "papermill": {
     "duration": 0.10099,
     "end_time": "2021-09-27T11:39:01.104131",
     "exception": false,
     "start_time": "2021-09-27T11:39:01.003141",
     "status": "completed"
    },
    "tags": []
   },
   "outputs": [
    {
     "name": "stdout",
     "output_type": "stream",
     "text": [
      "/kaggle/input/employees-evaluation-for-promotion/employee_promotion.csv\n"
     ]
    }
   ],
   "source": [
    "# This Python 3 environment comes with many helpful analytics libraries installed\n",
    "# It is defined by the kaggle/python Docker image: https://github.com/kaggle/docker-python\n",
    "# For example, here's several helpful packages to load\n",
    "\n",
    "import numpy as np # linear algebra\n",
    "import pandas as pd # data processing, CSV file I/O (e.g. pd.read_csv)\n",
    "\n",
    "# Input data files are available in the read-only \"../input/\" directory\n",
    "# For example, running this (by clicking run or pressing Shift+Enter) will list all files under the input directory\n",
    "\n",
    "import os\n",
    "for dirname, _, filenames in os.walk('/kaggle/input'):\n",
    "    for filename in filenames:\n",
    "        print(os.path.join(dirname, filename))\n",
    "\n",
    "# You can write up to 20GB to the current directory (/kaggle/working/) that gets preserved as output when you create a version using \"Save & Run All\" \n",
    "# You can also write temporary files to /kaggle/temp/, but they won't be saved outside of the current session"
   ]
  },
  {
   "cell_type": "markdown",
   "metadata": {
    "papermill": {
     "duration": 0.068628,
     "end_time": "2021-09-27T11:39:01.242252",
     "exception": false,
     "start_time": "2021-09-27T11:39:01.173624",
     "status": "completed"
    },
    "tags": []
   },
   "source": [
    "# Importing Libraraies "
   ]
  },
  {
   "cell_type": "code",
   "execution_count": 1,
   "metadata": {
    "execution": {
     "iopub.execute_input": "2021-09-27T11:39:01.391251Z",
     "iopub.status.busy": "2021-09-27T11:39:01.390361Z",
     "iopub.status.idle": "2021-09-27T11:39:02.708986Z",
     "shell.execute_reply": "2021-09-27T11:39:02.707536Z",
     "shell.execute_reply.started": "2021-09-27T10:12:41.583541Z"
    },
    "papermill": {
     "duration": 1.395586,
     "end_time": "2021-09-27T11:39:02.709211",
     "exception": false,
     "start_time": "2021-09-27T11:39:01.313625",
     "status": "completed"
    },
    "tags": []
   },
   "outputs": [],
   "source": [
    "import pandas as pd\n",
    "import numpy as np\n",
    "import seaborn as sns\n",
    "import matplotlib.pyplot as plt\n",
    "import sklearn\n",
    "from sklearn import preprocessing\n",
    "from sklearn.preprocessing import LabelEncoder\n",
    "from sklearn.model_selection import train_test_split\n",
    "from sklearn import metrics\n",
    "from sklearn.linear_model import LogisticRegression"
   ]
  },
  {
   "cell_type": "markdown",
   "metadata": {
    "papermill": {
     "duration": 0.068092,
     "end_time": "2021-09-27T11:39:02.846744",
     "exception": false,
     "start_time": "2021-09-27T11:39:02.778652",
     "status": "completed"
    },
    "tags": []
   },
   "source": [
    "##  Loading the Dataset"
   ]
  },
  {
   "cell_type": "code",
   "execution_count": 4,
   "metadata": {
    "execution": {
     "iopub.execute_input": "2021-09-27T11:39:02.991483Z",
     "iopub.status.busy": "2021-09-27T11:39:02.990272Z",
     "iopub.status.idle": "2021-09-27T11:39:03.155064Z",
     "shell.execute_reply": "2021-09-27T11:39:03.154353Z",
     "shell.execute_reply.started": "2021-09-27T10:12:42.896597Z"
    },
    "papermill": {
     "duration": 0.239328,
     "end_time": "2021-09-27T11:39:03.155235",
     "exception": false,
     "start_time": "2021-09-27T11:39:02.915907",
     "status": "completed"
    },
    "tags": []
   },
   "outputs": [],
   "source": [
    "df = pd.read_csv(\"employee_promotions.csv\")"
   ]
  },
  {
   "cell_type": "code",
   "execution_count": 5,
   "metadata": {
    "execution": {
     "iopub.execute_input": "2021-09-27T11:39:03.308323Z",
     "iopub.status.busy": "2021-09-27T11:39:03.299246Z",
     "iopub.status.idle": "2021-09-27T11:39:03.339639Z",
     "shell.execute_reply": "2021-09-27T11:39:03.340255Z",
     "shell.execute_reply.started": "2021-09-27T10:12:43.062351Z"
    },
    "papermill": {
     "duration": 0.115083,
     "end_time": "2021-09-27T11:39:03.340496",
     "exception": false,
     "start_time": "2021-09-27T11:39:03.225413",
     "status": "completed"
    },
    "tags": []
   },
   "outputs": [
    {
     "data": {
      "text/html": [
       "<div>\n",
       "<style scoped>\n",
       "    .dataframe tbody tr th:only-of-type {\n",
       "        vertical-align: middle;\n",
       "    }\n",
       "\n",
       "    .dataframe tbody tr th {\n",
       "        vertical-align: top;\n",
       "    }\n",
       "\n",
       "    .dataframe thead th {\n",
       "        text-align: right;\n",
       "    }\n",
       "</style>\n",
       "<table border=\"1\" class=\"dataframe\">\n",
       "  <thead>\n",
       "    <tr style=\"text-align: right;\">\n",
       "      <th></th>\n",
       "      <th>employee_id</th>\n",
       "      <th>department</th>\n",
       "      <th>region</th>\n",
       "      <th>education</th>\n",
       "      <th>gender</th>\n",
       "      <th>recruitment_channel</th>\n",
       "      <th>no_of_trainings</th>\n",
       "      <th>age</th>\n",
       "      <th>previous_year_rating</th>\n",
       "      <th>length_of_service</th>\n",
       "      <th>awards_won</th>\n",
       "      <th>avg_training_score</th>\n",
       "      <th>is_promoted</th>\n",
       "    </tr>\n",
       "  </thead>\n",
       "  <tbody>\n",
       "    <tr>\n",
       "      <th>0</th>\n",
       "      <td>65438</td>\n",
       "      <td>Sales &amp; Marketing</td>\n",
       "      <td>region_7</td>\n",
       "      <td>Master's &amp; above</td>\n",
       "      <td>f</td>\n",
       "      <td>sourcing</td>\n",
       "      <td>1</td>\n",
       "      <td>35</td>\n",
       "      <td>5.0</td>\n",
       "      <td>8</td>\n",
       "      <td>0</td>\n",
       "      <td>49.0</td>\n",
       "      <td>0</td>\n",
       "    </tr>\n",
       "    <tr>\n",
       "      <th>1</th>\n",
       "      <td>65141</td>\n",
       "      <td>Operations</td>\n",
       "      <td>region_22</td>\n",
       "      <td>Bachelor's</td>\n",
       "      <td>m</td>\n",
       "      <td>other</td>\n",
       "      <td>1</td>\n",
       "      <td>30</td>\n",
       "      <td>5.0</td>\n",
       "      <td>4</td>\n",
       "      <td>0</td>\n",
       "      <td>60.0</td>\n",
       "      <td>0</td>\n",
       "    </tr>\n",
       "    <tr>\n",
       "      <th>2</th>\n",
       "      <td>7513</td>\n",
       "      <td>Sales &amp; Marketing</td>\n",
       "      <td>region_19</td>\n",
       "      <td>Bachelor's</td>\n",
       "      <td>m</td>\n",
       "      <td>sourcing</td>\n",
       "      <td>1</td>\n",
       "      <td>34</td>\n",
       "      <td>3.0</td>\n",
       "      <td>7</td>\n",
       "      <td>0</td>\n",
       "      <td>50.0</td>\n",
       "      <td>0</td>\n",
       "    </tr>\n",
       "    <tr>\n",
       "      <th>3</th>\n",
       "      <td>2542</td>\n",
       "      <td>Sales &amp; Marketing</td>\n",
       "      <td>region_23</td>\n",
       "      <td>Bachelor's</td>\n",
       "      <td>m</td>\n",
       "      <td>other</td>\n",
       "      <td>2</td>\n",
       "      <td>39</td>\n",
       "      <td>1.0</td>\n",
       "      <td>10</td>\n",
       "      <td>0</td>\n",
       "      <td>50.0</td>\n",
       "      <td>0</td>\n",
       "    </tr>\n",
       "    <tr>\n",
       "      <th>4</th>\n",
       "      <td>48945</td>\n",
       "      <td>Technology</td>\n",
       "      <td>region_26</td>\n",
       "      <td>Bachelor's</td>\n",
       "      <td>m</td>\n",
       "      <td>other</td>\n",
       "      <td>1</td>\n",
       "      <td>45</td>\n",
       "      <td>3.0</td>\n",
       "      <td>2</td>\n",
       "      <td>0</td>\n",
       "      <td>73.0</td>\n",
       "      <td>0</td>\n",
       "    </tr>\n",
       "  </tbody>\n",
       "</table>\n",
       "</div>"
      ],
      "text/plain": [
       "   employee_id         department     region         education gender  \\\n",
       "0        65438  Sales & Marketing   region_7  Master's & above      f   \n",
       "1        65141         Operations  region_22        Bachelor's      m   \n",
       "2         7513  Sales & Marketing  region_19        Bachelor's      m   \n",
       "3         2542  Sales & Marketing  region_23        Bachelor's      m   \n",
       "4        48945         Technology  region_26        Bachelor's      m   \n",
       "\n",
       "  recruitment_channel  no_of_trainings  age  previous_year_rating  \\\n",
       "0            sourcing                1   35                   5.0   \n",
       "1               other                1   30                   5.0   \n",
       "2            sourcing                1   34                   3.0   \n",
       "3               other                2   39                   1.0   \n",
       "4               other                1   45                   3.0   \n",
       "\n",
       "   length_of_service  awards_won  avg_training_score  is_promoted  \n",
       "0                  8           0                49.0            0  \n",
       "1                  4           0                60.0            0  \n",
       "2                  7           0                50.0            0  \n",
       "3                 10           0                50.0            0  \n",
       "4                  2           0                73.0            0  "
      ]
     },
     "execution_count": 5,
     "metadata": {},
     "output_type": "execute_result"
    }
   ],
   "source": [
    "df.head()"
   ]
  },
  {
   "cell_type": "code",
   "execution_count": 6,
   "metadata": {
    "execution": {
     "iopub.execute_input": "2021-09-27T11:39:03.519900Z",
     "iopub.status.busy": "2021-09-27T11:39:03.489156Z",
     "iopub.status.idle": "2021-09-27T11:39:03.543462Z",
     "shell.execute_reply": "2021-09-27T11:39:03.543975Z",
     "shell.execute_reply.started": "2021-09-27T10:19:14.114845Z"
    },
    "papermill": {
     "duration": 0.133943,
     "end_time": "2021-09-27T11:39:03.544177",
     "exception": false,
     "start_time": "2021-09-27T11:39:03.410234",
     "status": "completed"
    },
    "tags": []
   },
   "outputs": [
    {
     "name": "stdout",
     "output_type": "stream",
     "text": [
      "<class 'pandas.core.frame.DataFrame'>\n",
      "RangeIndex: 54808 entries, 0 to 54807\n",
      "Data columns (total 13 columns):\n",
      " #   Column                Non-Null Count  Dtype  \n",
      "---  ------                --------------  -----  \n",
      " 0   employee_id           54808 non-null  int64  \n",
      " 1   department            54808 non-null  object \n",
      " 2   region                54808 non-null  object \n",
      " 3   education             52399 non-null  object \n",
      " 4   gender                54808 non-null  object \n",
      " 5   recruitment_channel   54808 non-null  object \n",
      " 6   no_of_trainings       54808 non-null  int64  \n",
      " 7   age                   54808 non-null  int64  \n",
      " 8   previous_year_rating  50684 non-null  float64\n",
      " 9   length_of_service     54808 non-null  int64  \n",
      " 10  awards_won            54808 non-null  int64  \n",
      " 11  avg_training_score    52248 non-null  float64\n",
      " 12  is_promoted           54808 non-null  int64  \n",
      "dtypes: float64(2), int64(6), object(5)\n",
      "memory usage: 5.4+ MB\n"
     ]
    }
   ],
   "source": [
    "df.info()"
   ]
  },
  {
   "cell_type": "code",
   "execution_count": 7,
   "metadata": {
    "execution": {
     "iopub.execute_input": "2021-09-27T11:39:03.688257Z",
     "iopub.status.busy": "2021-09-27T11:39:03.687470Z",
     "iopub.status.idle": "2021-09-27T11:39:03.744233Z",
     "shell.execute_reply": "2021-09-27T11:39:03.743570Z",
     "shell.execute_reply.started": "2021-09-27T10:19:24.780340Z"
    },
    "papermill": {
     "duration": 0.13025,
     "end_time": "2021-09-27T11:39:03.744460",
     "exception": false,
     "start_time": "2021-09-27T11:39:03.614210",
     "status": "completed"
    },
    "tags": []
   },
   "outputs": [
    {
     "data": {
      "text/html": [
       "<div>\n",
       "<style scoped>\n",
       "    .dataframe tbody tr th:only-of-type {\n",
       "        vertical-align: middle;\n",
       "    }\n",
       "\n",
       "    .dataframe tbody tr th {\n",
       "        vertical-align: top;\n",
       "    }\n",
       "\n",
       "    .dataframe thead th {\n",
       "        text-align: right;\n",
       "    }\n",
       "</style>\n",
       "<table border=\"1\" class=\"dataframe\">\n",
       "  <thead>\n",
       "    <tr style=\"text-align: right;\">\n",
       "      <th></th>\n",
       "      <th>employee_id</th>\n",
       "      <th>no_of_trainings</th>\n",
       "      <th>age</th>\n",
       "      <th>previous_year_rating</th>\n",
       "      <th>length_of_service</th>\n",
       "      <th>awards_won</th>\n",
       "      <th>avg_training_score</th>\n",
       "      <th>is_promoted</th>\n",
       "    </tr>\n",
       "  </thead>\n",
       "  <tbody>\n",
       "    <tr>\n",
       "      <th>count</th>\n",
       "      <td>54808.000000</td>\n",
       "      <td>54808.000000</td>\n",
       "      <td>54808.000000</td>\n",
       "      <td>50684.000000</td>\n",
       "      <td>54808.000000</td>\n",
       "      <td>54808.000000</td>\n",
       "      <td>52248.000000</td>\n",
       "      <td>54808.000000</td>\n",
       "    </tr>\n",
       "    <tr>\n",
       "      <th>mean</th>\n",
       "      <td>39195.830627</td>\n",
       "      <td>1.253011</td>\n",
       "      <td>34.803915</td>\n",
       "      <td>3.329256</td>\n",
       "      <td>5.865512</td>\n",
       "      <td>0.023172</td>\n",
       "      <td>63.712238</td>\n",
       "      <td>0.085170</td>\n",
       "    </tr>\n",
       "    <tr>\n",
       "      <th>std</th>\n",
       "      <td>22586.581449</td>\n",
       "      <td>0.609264</td>\n",
       "      <td>7.660169</td>\n",
       "      <td>1.259993</td>\n",
       "      <td>4.265094</td>\n",
       "      <td>0.150450</td>\n",
       "      <td>13.521910</td>\n",
       "      <td>0.279137</td>\n",
       "    </tr>\n",
       "    <tr>\n",
       "      <th>min</th>\n",
       "      <td>1.000000</td>\n",
       "      <td>1.000000</td>\n",
       "      <td>20.000000</td>\n",
       "      <td>1.000000</td>\n",
       "      <td>1.000000</td>\n",
       "      <td>0.000000</td>\n",
       "      <td>39.000000</td>\n",
       "      <td>0.000000</td>\n",
       "    </tr>\n",
       "    <tr>\n",
       "      <th>25%</th>\n",
       "      <td>19669.750000</td>\n",
       "      <td>1.000000</td>\n",
       "      <td>29.000000</td>\n",
       "      <td>3.000000</td>\n",
       "      <td>3.000000</td>\n",
       "      <td>0.000000</td>\n",
       "      <td>51.000000</td>\n",
       "      <td>0.000000</td>\n",
       "    </tr>\n",
       "    <tr>\n",
       "      <th>50%</th>\n",
       "      <td>39225.500000</td>\n",
       "      <td>1.000000</td>\n",
       "      <td>33.000000</td>\n",
       "      <td>3.000000</td>\n",
       "      <td>5.000000</td>\n",
       "      <td>0.000000</td>\n",
       "      <td>60.000000</td>\n",
       "      <td>0.000000</td>\n",
       "    </tr>\n",
       "    <tr>\n",
       "      <th>75%</th>\n",
       "      <td>58730.500000</td>\n",
       "      <td>1.000000</td>\n",
       "      <td>39.000000</td>\n",
       "      <td>4.000000</td>\n",
       "      <td>7.000000</td>\n",
       "      <td>0.000000</td>\n",
       "      <td>77.000000</td>\n",
       "      <td>0.000000</td>\n",
       "    </tr>\n",
       "    <tr>\n",
       "      <th>max</th>\n",
       "      <td>78298.000000</td>\n",
       "      <td>10.000000</td>\n",
       "      <td>60.000000</td>\n",
       "      <td>5.000000</td>\n",
       "      <td>37.000000</td>\n",
       "      <td>1.000000</td>\n",
       "      <td>99.000000</td>\n",
       "      <td>1.000000</td>\n",
       "    </tr>\n",
       "  </tbody>\n",
       "</table>\n",
       "</div>"
      ],
      "text/plain": [
       "        employee_id  no_of_trainings           age  previous_year_rating  \\\n",
       "count  54808.000000     54808.000000  54808.000000          50684.000000   \n",
       "mean   39195.830627         1.253011     34.803915              3.329256   \n",
       "std    22586.581449         0.609264      7.660169              1.259993   \n",
       "min        1.000000         1.000000     20.000000              1.000000   \n",
       "25%    19669.750000         1.000000     29.000000              3.000000   \n",
       "50%    39225.500000         1.000000     33.000000              3.000000   \n",
       "75%    58730.500000         1.000000     39.000000              4.000000   \n",
       "max    78298.000000        10.000000     60.000000              5.000000   \n",
       "\n",
       "       length_of_service    awards_won  avg_training_score   is_promoted  \n",
       "count       54808.000000  54808.000000        52248.000000  54808.000000  \n",
       "mean            5.865512      0.023172           63.712238      0.085170  \n",
       "std             4.265094      0.150450           13.521910      0.279137  \n",
       "min             1.000000      0.000000           39.000000      0.000000  \n",
       "25%             3.000000      0.000000           51.000000      0.000000  \n",
       "50%             5.000000      0.000000           60.000000      0.000000  \n",
       "75%             7.000000      0.000000           77.000000      0.000000  \n",
       "max            37.000000      1.000000           99.000000      1.000000  "
      ]
     },
     "execution_count": 7,
     "metadata": {},
     "output_type": "execute_result"
    }
   ],
   "source": [
    "df.describe()"
   ]
  },
  {
   "cell_type": "markdown",
   "metadata": {
    "papermill": {
     "duration": 0.071122,
     "end_time": "2021-09-27T11:39:03.886222",
     "exception": false,
     "start_time": "2021-09-27T11:39:03.815100",
     "status": "completed"
    },
    "tags": []
   },
   "source": [
    "\n",
    "# *EDA*"
   ]
  },
  {
   "cell_type": "markdown",
   "metadata": {
    "papermill": {
     "duration": 0.069681,
     "end_time": "2021-09-27T11:39:04.026545",
     "exception": false,
     "start_time": "2021-09-27T11:39:03.956864",
     "status": "completed"
    },
    "tags": []
   },
   "source": [
    "## Working Domain"
   ]
  },
  {
   "cell_type": "code",
   "execution_count": 8,
   "metadata": {
    "execution": {
     "iopub.execute_input": "2021-09-27T11:39:04.172257Z",
     "iopub.status.busy": "2021-09-27T11:39:04.171563Z",
     "iopub.status.idle": "2021-09-27T11:39:04.556893Z",
     "shell.execute_reply": "2021-09-27T11:39:04.557517Z",
     "shell.execute_reply.started": "2021-09-27T10:12:43.094232Z"
    },
    "papermill": {
     "duration": 0.45958,
     "end_time": "2021-09-27T11:39:04.557764",
     "exception": false,
     "start_time": "2021-09-27T11:39:04.098184",
     "status": "completed"
    },
    "tags": []
   },
   "outputs": [
    {
     "data": {
      "image/png": "[encoded data removed]",
      "text/plain": [
       "<Figure size 720x720 with 1 Axes>"
      ]
     },
     "metadata": {},
     "output_type": "display_data"
    }
   ],
   "source": [
    "plt.figure(figsize=(10,10))\n",
    "df['department'].value_counts().plot(kind='pie').legend()\n",
    "plt.show()"
   ]
  },
  {
   "cell_type": "code",
   "execution_count": 9,
   "metadata": {
    "execution": {
     "iopub.execute_input": "2021-09-27T11:39:04.708637Z",
     "iopub.status.busy": "2021-09-27T11:39:04.707424Z",
     "iopub.status.idle": "2021-09-27T11:39:04.982426Z",
     "shell.execute_reply": "2021-09-27T11:39:04.982961Z",
     "shell.execute_reply.started": "2021-09-27T10:12:43.464876Z"
    },
    "papermill": {
     "duration": 0.352951,
     "end_time": "2021-09-27T11:39:04.983206",
     "exception": false,
     "start_time": "2021-09-27T11:39:04.630255",
     "status": "completed"
    },
    "tags": []
   },
   "outputs": [
    {
     "data": {
      "image/png": "[encoded data removed]",
      "text/plain": [
       "<Figure size 720x720 with 1 Axes>"
      ]
     },
     "metadata": {
      "needs_background": "light"
     },
     "output_type": "display_data"
    }
   ],
   "source": [
    "plt.figure(figsize=(10,10))\n",
    "df['department'].value_counts().plot(kind='bar')\n",
    "plt.show()"
   ]
  },
  {
   "cell_type": "markdown",
   "metadata": {
    "papermill": {
     "duration": 0.074059,
     "end_time": "2021-09-27T11:39:05.130981",
     "exception": false,
     "start_time": "2021-09-27T11:39:05.056922",
     "status": "completed"
    },
    "tags": []
   },
   "source": [
    "## More Number of people are working in sales & Marketing."
   ]
  },
  {
   "cell_type": "markdown",
   "metadata": {
    "papermill": {
     "duration": 0.073468,
     "end_time": "2021-09-27T11:39:05.281377",
     "exception": false,
     "start_time": "2021-09-27T11:39:05.207909",
     "status": "completed"
    },
    "tags": []
   },
   "source": [
    "## Region Distribution"
   ]
  },
  {
   "cell_type": "code",
   "execution_count": 10,
   "metadata": {
    "execution": {
     "iopub.execute_input": "2021-09-27T11:39:05.433660Z",
     "iopub.status.busy": "2021-09-27T11:39:05.432480Z",
     "iopub.status.idle": "2021-09-27T11:39:06.125036Z",
     "shell.execute_reply": "2021-09-27T11:39:06.125567Z",
     "shell.execute_reply.started": "2021-09-27T10:12:43.714843Z"
    },
    "papermill": {
     "duration": 0.771308,
     "end_time": "2021-09-27T11:39:06.125798",
     "exception": false,
     "start_time": "2021-09-27T11:39:05.354490",
     "status": "completed"
    },
    "tags": []
   },
   "outputs": [
    {
     "data": {
      "image/png": "[encoded data removed]",
      "text/plain": [
       "<Figure size 720x720 with 1 Axes>"
      ]
     },
     "metadata": {
      "needs_background": "light"
     },
     "output_type": "display_data"
    }
   ],
   "source": [
    "plt.figure(figsize=(10,10))\n",
    "sns.countplot(data=df,x='region')\n",
    "plt.xticks(rotation=90)\n",
    "plt.show()"
   ]
  },
  {
   "cell_type": "markdown",
   "metadata": {
    "papermill": {
     "duration": 0.07594,
     "end_time": "2021-09-27T11:39:06.275001",
     "exception": false,
     "start_time": "2021-09-27T11:39:06.199061",
     "status": "completed"
    },
    "tags": []
   },
   "source": [
    "## From the Region_2, most number of people are working."
   ]
  },
  {
   "cell_type": "markdown",
   "metadata": {
    "papermill": {
     "duration": 0.07303,
     "end_time": "2021-09-27T11:39:06.423205",
     "exception": false,
     "start_time": "2021-09-27T11:39:06.350175",
     "status": "completed"
    },
    "tags": []
   },
   "source": [
    "## Gender distribution"
   ]
  },
  {
   "cell_type": "code",
   "execution_count": 11,
   "metadata": {
    "execution": {
     "iopub.execute_input": "2021-09-27T11:39:06.656421Z",
     "iopub.status.busy": "2021-09-27T11:39:06.591113Z",
     "iopub.status.idle": "2021-09-27T11:39:06.800462Z",
     "shell.execute_reply": "2021-09-27T11:39:06.799246Z",
     "shell.execute_reply.started": "2021-09-27T10:12:44.318423Z"
    },
    "papermill": {
     "duration": 0.301691,
     "end_time": "2021-09-27T11:39:06.800675",
     "exception": false,
     "start_time": "2021-09-27T11:39:06.498984",
     "status": "completed"
    },
    "tags": []
   },
   "outputs": [
    {
     "data": {
      "image/png": "[encoded data removed]",
      "text/plain": [
       "<Figure size 720x360 with 1 Axes>"
      ]
     },
     "metadata": {
      "needs_background": "light"
     },
     "output_type": "display_data"
    }
   ],
   "source": [
    "plt.figure(figsize=(10,5))\n",
    "df['gender'].value_counts().plot(kind='bar',color='red')\n",
    "plt.xticks(rotation=0)\n",
    "plt.show()"
   ]
  },
  {
   "cell_type": "markdown",
   "metadata": {
    "papermill": {
     "duration": 0.07416,
     "end_time": "2021-09-27T11:39:06.950039",
     "exception": false,
     "start_time": "2021-09-27T11:39:06.875879",
     "status": "completed"
    },
    "tags": []
   },
   "source": [
    "## The Barplot shows that the number of Male employees are greater than the number of female employees"
   ]
  },
  {
   "cell_type": "markdown",
   "metadata": {
    "papermill": {
     "duration": 0.079284,
     "end_time": "2021-09-27T11:39:07.104484",
     "exception": false,
     "start_time": "2021-09-27T11:39:07.025200",
     "status": "completed"
    },
    "tags": []
   },
   "source": [
    "## Recruitment Channel "
   ]
  },
  {
   "cell_type": "code",
   "execution_count": 12,
   "metadata": {
    "execution": {
     "iopub.execute_input": "2021-09-27T11:39:07.300759Z",
     "iopub.status.busy": "2021-09-27T11:39:07.288510Z",
     "iopub.status.idle": "2021-09-27T11:39:07.522654Z",
     "shell.execute_reply": "2021-09-27T11:39:07.521916Z",
     "shell.execute_reply.started": "2021-09-27T10:12:46.805405Z"
    },
    "papermill": {
     "duration": 0.335587,
     "end_time": "2021-09-27T11:39:07.522871",
     "exception": false,
     "start_time": "2021-09-27T11:39:07.187284",
     "status": "completed"
    },
    "tags": []
   },
   "outputs": [
    {
     "data": {
      "text/plain": [
       "<matplotlib.axes._subplots.AxesSubplot at 0x200caef3f08>"
      ]
     },
     "execution_count": 12,
     "metadata": {},
     "output_type": "execute_result"
    },
    {
     "data": {
      "image/png": "[encoded data removed]",
      "text/plain": [
       "<Figure size 432x288 with 1 Axes>"
      ]
     },
     "metadata": {
      "needs_background": "light"
     },
     "output_type": "display_data"
    }
   ],
   "source": [
    "df['recruitment_channel'].value_counts().plot(kind='barh',color='gold')"
   ]
  },
  {
   "cell_type": "markdown",
   "metadata": {
    "papermill": {
     "duration": 0.076513,
     "end_time": "2021-09-27T11:39:07.678849",
     "exception": false,
     "start_time": "2021-09-27T11:39:07.602336",
     "status": "completed"
    },
    "tags": []
   },
   "source": [
    "## Employee's Education Distribution"
   ]
  },
  {
   "cell_type": "code",
   "execution_count": 13,
   "metadata": {
    "execution": {
     "iopub.execute_input": "2021-09-27T11:39:07.873264Z",
     "iopub.status.busy": "2021-09-27T11:39:07.849374Z",
     "iopub.status.idle": "2021-09-27T11:39:08.070935Z",
     "shell.execute_reply": "2021-09-27T11:39:08.071542Z",
     "shell.execute_reply.started": "2021-09-27T10:12:47.124752Z"
    },
    "papermill": {
     "duration": 0.313222,
     "end_time": "2021-09-27T11:39:08.071788",
     "exception": false,
     "start_time": "2021-09-27T11:39:07.758566",
     "status": "completed"
    },
    "tags": []
   },
   "outputs": [
    {
     "data": {
      "text/plain": [
       "<matplotlib.axes._subplots.AxesSubplot at 0x200cb1fefc8>"
      ]
     },
     "execution_count": 13,
     "metadata": {},
     "output_type": "execute_result"
    },
    {
     "data": {
      "image/png": "[encoded data removed]",
      "text/plain": [
       "<Figure size 432x288 with 1 Axes>"
      ]
     },
     "metadata": {
      "needs_background": "light"
     },
     "output_type": "display_data"
    }
   ],
   "source": [
    "df['education'].value_counts().plot(kind='barh')"
   ]
  },
  {
   "cell_type": "markdown",
   "metadata": {
    "papermill": {
     "duration": 0.076449,
     "end_time": "2021-09-27T11:39:08.227351",
     "exception": false,
     "start_time": "2021-09-27T11:39:08.150902",
     "status": "completed"
    },
    "tags": []
   },
   "source": [
    "## The largest number of employee's highest qualification is Bachelor's Degree"
   ]
  },
  {
   "cell_type": "markdown",
   "metadata": {
    "papermill": {
     "duration": 0.076722,
     "end_time": "2021-09-27T11:39:08.386602",
     "exception": false,
     "start_time": "2021-09-27T11:39:08.309880",
     "status": "completed"
    },
    "tags": []
   },
   "source": [
    "## Employee's Age Distribution"
   ]
  },
  {
   "cell_type": "code",
   "execution_count": 14,
   "metadata": {
    "execution": {
     "iopub.execute_input": "2021-09-27T11:39:08.549882Z",
     "iopub.status.busy": "2021-09-27T11:39:08.548566Z",
     "iopub.status.idle": "2021-09-27T11:39:09.098903Z",
     "shell.execute_reply": "2021-09-27T11:39:09.098164Z",
     "shell.execute_reply.started": "2021-09-27T10:12:47.339180Z"
    },
    "papermill": {
     "duration": 0.636036,
     "end_time": "2021-09-27T11:39:09.099081",
     "exception": false,
     "start_time": "2021-09-27T11:39:08.463045",
     "status": "completed"
    },
    "tags": []
   },
   "outputs": [
    {
     "data": {
      "image/png": "[encoded data removed]",
      "text/plain": [
       "<Figure size 720x720 with 1 Axes>"
      ]
     },
     "metadata": {
      "needs_background": "light"
     },
     "output_type": "display_data"
    }
   ],
   "source": [
    "plt.figure(figsize=(10,10))\n",
    "sns.countplot(df.age)\n",
    "plt.show()"
   ]
  },
  {
   "cell_type": "markdown",
   "metadata": {
    "papermill": {
     "duration": 0.078162,
     "end_time": "2021-09-27T11:39:09.255899",
     "exception": false,
     "start_time": "2021-09-27T11:39:09.177737",
     "status": "completed"
    },
    "tags": []
   },
   "source": [
    "## Previous Year Rating Distribution"
   ]
  },
  {
   "cell_type": "code",
   "execution_count": 15,
   "metadata": {
    "execution": {
     "iopub.execute_input": "2021-09-27T11:39:09.428051Z",
     "iopub.status.busy": "2021-09-27T11:39:09.427179Z",
     "iopub.status.idle": "2021-09-27T11:39:09.624983Z",
     "shell.execute_reply": "2021-09-27T11:39:09.625529Z",
     "shell.execute_reply.started": "2021-09-27T10:12:47.871223Z"
    },
    "papermill": {
     "duration": 0.291471,
     "end_time": "2021-09-27T11:39:09.625766",
     "exception": false,
     "start_time": "2021-09-27T11:39:09.334295",
     "status": "completed"
    },
    "tags": []
   },
   "outputs": [
    {
     "data": {
      "image/png": "[encoded data removed]",
      "text/plain": [
       "<Figure size 432x288 with 1 Axes>"
      ]
     },
     "metadata": {
      "needs_background": "light"
     },
     "output_type": "display_data"
    }
   ],
   "source": [
    "df['previous_year_rating'].value_counts().plot(kind='bar',color='purple')\n",
    "plt.xticks(rotation=0)\n",
    "plt.show()"
   ]
  },
  {
   "cell_type": "markdown",
   "metadata": {
    "papermill": {
     "duration": 0.079058,
     "end_time": "2021-09-27T11:39:09.783095",
     "exception": false,
     "start_time": "2021-09-27T11:39:09.704037",
     "status": "completed"
    },
    "tags": []
   },
   "source": [
    "### Most employees are rated as 3 on previous year rating."
   ]
  },
  {
   "cell_type": "markdown",
   "metadata": {
    "papermill": {
     "duration": 0.078531,
     "end_time": "2021-09-27T11:39:09.941076",
     "exception": false,
     "start_time": "2021-09-27T11:39:09.862545",
     "status": "completed"
    },
    "tags": []
   },
   "source": [
    "## No. of trainings "
   ]
  },
  {
   "cell_type": "code",
   "execution_count": 16,
   "metadata": {
    "execution": {
     "iopub.execute_input": "2021-09-27T11:39:10.107008Z",
     "iopub.status.busy": "2021-09-27T11:39:10.106206Z",
     "iopub.status.idle": "2021-09-27T11:39:10.320707Z",
     "shell.execute_reply": "2021-09-27T11:39:10.320008Z",
     "shell.execute_reply.started": "2021-09-27T10:12:48.076800Z"
    },
    "papermill": {
     "duration": 0.299379,
     "end_time": "2021-09-27T11:39:10.320881",
     "exception": false,
     "start_time": "2021-09-27T11:39:10.021502",
     "status": "completed"
    },
    "tags": []
   },
   "outputs": [
    {
     "data": {
      "image/png": "[encoded data removed]",
      "text/plain": [
       "<Figure size 432x288 with 1 Axes>"
      ]
     },
     "metadata": {
      "needs_background": "light"
     },
     "output_type": "display_data"
    }
   ],
   "source": [
    "sns.countplot(df.no_of_trainings)\n",
    "plt.show()"
   ]
  },
  {
   "cell_type": "markdown",
   "metadata": {
    "papermill": {
     "duration": 0.078925,
     "end_time": "2021-09-27T11:39:10.480876",
     "exception": false,
     "start_time": "2021-09-27T11:39:10.401951",
     "status": "completed"
    },
    "tags": []
   },
   "source": [
    "Large employees have taken one training"
   ]
  },
  {
   "cell_type": "markdown",
   "metadata": {
    "papermill": {
     "duration": 0.078481,
     "end_time": "2021-09-27T11:39:10.638836",
     "exception": false,
     "start_time": "2021-09-27T11:39:10.560355",
     "status": "completed"
    },
    "tags": []
   },
   "source": [
    "## Length of Service"
   ]
  },
  {
   "cell_type": "code",
   "execution_count": 17,
   "metadata": {
    "execution": {
     "iopub.execute_input": "2021-09-27T11:39:10.808296Z",
     "iopub.status.busy": "2021-09-27T11:39:10.807037Z",
     "iopub.status.idle": "2021-09-27T11:39:11.200293Z",
     "shell.execute_reply": "2021-09-27T11:39:11.199552Z",
     "shell.execute_reply.started": "2021-09-27T10:12:48.311353Z"
    },
    "papermill": {
     "duration": 0.482438,
     "end_time": "2021-09-27T11:39:11.200482",
     "exception": false,
     "start_time": "2021-09-27T11:39:10.718044",
     "status": "completed"
    },
    "tags": []
   },
   "outputs": [
    {
     "data": {
      "image/png": "[encoded data removed]",
      "text/plain": [
       "<Figure size 720x720 with 1 Axes>"
      ]
     },
     "metadata": {
      "needs_background": "light"
     },
     "output_type": "display_data"
    }
   ],
   "source": [
    "plt.figure(figsize=(10,10))\n",
    "sns.countplot(df.length_of_service)\n",
    "plt.show()"
   ]
  },
  {
   "cell_type": "markdown",
   "metadata": {
    "papermill": {
     "duration": 0.100087,
     "end_time": "2021-09-27T11:39:11.391226",
     "exception": false,
     "start_time": "2021-09-27T11:39:11.291139",
     "status": "completed"
    },
    "tags": []
   },
   "source": [
    "### More number of employees are in their entry level and associate level positions"
   ]
  },
  {
   "cell_type": "code",
   "execution_count": 18,
   "metadata": {
    "execution": {
     "iopub.execute_input": "2021-09-27T11:39:11.559416Z",
     "iopub.status.busy": "2021-09-27T11:39:11.557794Z",
     "iopub.status.idle": "2021-09-27T11:39:12.428743Z",
     "shell.execute_reply": "2021-09-27T11:39:12.429314Z",
     "shell.execute_reply.started": "2021-09-27T10:16:57.356896Z"
    },
    "papermill": {
     "duration": 0.957903,
     "end_time": "2021-09-27T11:39:12.429568",
     "exception": false,
     "start_time": "2021-09-27T11:39:11.471665",
     "status": "completed"
    },
    "tags": []
   },
   "outputs": [
    {
     "data": {
      "image/png": "[encoded data removed]",
      "text/plain": [
       "<Figure size 864x504 with 1 Axes>"
      ]
     },
     "metadata": {
      "needs_background": "light"
     },
     "output_type": "display_data"
    }
   ],
   "source": [
    "plt.figure(figsize=(12,7))\n",
    "sns.countplot(df.avg_training_score)\n",
    "plt.xticks(rotation=90)\n",
    "plt.show()"
   ]
  },
  {
   "cell_type": "code",
   "execution_count": 19,
   "metadata": {
    "execution": {
     "iopub.execute_input": "2021-09-27T11:39:12.598587Z",
     "iopub.status.busy": "2021-09-27T11:39:12.597486Z",
     "iopub.status.idle": "2021-09-27T11:39:12.882569Z",
     "shell.execute_reply": "2021-09-27T11:39:12.881910Z",
     "shell.execute_reply.started": "2021-09-27T10:12:48.766790Z"
    },
    "papermill": {
     "duration": 0.37171,
     "end_time": "2021-09-27T11:39:12.882747",
     "exception": false,
     "start_time": "2021-09-27T11:39:12.511037",
     "status": "completed"
    },
    "tags": []
   },
   "outputs": [
    {
     "data": {
      "text/plain": [
       "<matplotlib.legend.Legend at 0x200c8c40548>"
      ]
     },
     "execution_count": 19,
     "metadata": {},
     "output_type": "execute_result"
    },
    {
     "data": {
      "image/png": "[encoded data removed]",
      "text/plain": [
       "<Figure size 720x360 with 1 Axes>"
      ]
     },
     "metadata": {
      "needs_background": "light"
     },
     "output_type": "display_data"
    }
   ],
   "source": [
    "plt.rcParams['figure.figsize'] = [10, 5]\n",
    "score_bin = pd.crosstab(df.no_of_trainings,df.is_promoted,normalize='index')\n",
    "score_bin.plot.bar(stacked=True)\n",
    "plt.legend(title='is_promoted',loc='upper left',bbox_to_anchor=(1, 0.5))"
   ]
  },
  {
   "cell_type": "markdown",
   "metadata": {
    "papermill": {
     "duration": 0.083294,
     "end_time": "2021-09-27T11:39:13.049272",
     "exception": false,
     "start_time": "2021-09-27T11:39:12.965978",
     "status": "completed"
    },
    "tags": []
   },
   "source": [
    "Highest number of employees are promoted with only one trainings"
   ]
  },
  {
   "cell_type": "code",
   "execution_count": 20,
   "metadata": {
    "execution": {
     "iopub.execute_input": "2021-09-27T11:39:13.221573Z",
     "iopub.status.busy": "2021-09-27T11:39:13.220416Z",
     "iopub.status.idle": "2021-09-27T11:39:13.428619Z",
     "shell.execute_reply": "2021-09-27T11:39:13.429254Z",
     "shell.execute_reply.started": "2021-09-27T10:12:49.096028Z"
    },
    "papermill": {
     "duration": 0.296289,
     "end_time": "2021-09-27T11:39:13.429494",
     "exception": false,
     "start_time": "2021-09-27T11:39:13.133205",
     "status": "completed"
    },
    "tags": []
   },
   "outputs": [
    {
     "data": {
      "text/plain": [
       "<matplotlib.legend.Legend at 0x200cb383a48>"
      ]
     },
     "execution_count": 20,
     "metadata": {},
     "output_type": "execute_result"
    },
    {
     "data": {
      "image/png": "[encoded data removed]",
      "text/plain": [
       "<Figure size 720x360 with 1 Axes>"
      ]
     },
     "metadata": {
      "needs_background": "light"
     },
     "output_type": "display_data"
    }
   ],
   "source": [
    "plt.rcParams['figure.figsize'] = [10, 5]\n",
    "score_bin = pd.crosstab(df.awards_won,df.is_promoted,normalize='index')\n",
    "score_bin.plot.bar(stacked=True)\n",
    "plt.legend(title='is_promoted',loc='lower left',bbox_to_anchor=(1, 0.5))"
   ]
  },
  {
   "cell_type": "markdown",
   "metadata": {
    "papermill": {
     "duration": 0.083975,
     "end_time": "2021-09-27T11:39:13.597982",
     "exception": false,
     "start_time": "2021-09-27T11:39:13.514007",
     "status": "completed"
    },
    "tags": []
   },
   "source": [
    "### Employees who have won awards have higher chances of getting promoted"
   ]
  },
  {
   "cell_type": "code",
   "execution_count": 21,
   "metadata": {
    "execution": {
     "iopub.execute_input": "2021-09-27T11:39:13.775358Z",
     "iopub.status.busy": "2021-09-27T11:39:13.774540Z",
     "iopub.status.idle": "2021-09-27T11:39:14.005784Z",
     "shell.execute_reply": "2021-09-27T11:39:14.006316Z",
     "shell.execute_reply.started": "2021-09-27T10:12:49.341452Z"
    },
    "papermill": {
     "duration": 0.323698,
     "end_time": "2021-09-27T11:39:14.006560",
     "exception": false,
     "start_time": "2021-09-27T11:39:13.682862",
     "status": "completed"
    },
    "tags": []
   },
   "outputs": [
    {
     "data": {
      "text/plain": [
       "<matplotlib.legend.Legend at 0x200cb4da788>"
      ]
     },
     "execution_count": 21,
     "metadata": {},
     "output_type": "execute_result"
    },
    {
     "data": {
      "image/png": "[encoded data removed]",
      "text/plain": [
       "<Figure size 720x360 with 1 Axes>"
      ]
     },
     "metadata": {
      "needs_background": "light"
     },
     "output_type": "display_data"
    }
   ],
   "source": [
    "plt.rcParams['figure.figsize'] = [10, 5]\n",
    "score_bin = pd.crosstab(df.previous_year_rating,df.is_promoted,normalize='index')\n",
    "score_bin.plot.bar(stacked=True)\n",
    "plt.legend(title='is_promoted',loc='lower left',bbox_to_anchor=(1, 0.5))"
   ]
  },
  {
   "cell_type": "markdown",
   "metadata": {
    "papermill": {
     "duration": 0.084896,
     "end_time": "2021-09-27T11:39:14.177711",
     "exception": false,
     "start_time": "2021-09-27T11:39:14.092815",
     "status": "completed"
    },
    "tags": []
   },
   "source": [
    "### employee who have attained rating 5 on previous year, have a chances of getting promoted."
   ]
  },
  {
   "cell_type": "code",
   "execution_count": 22,
   "metadata": {
    "execution": {
     "iopub.execute_input": "2021-09-27T11:39:14.353830Z",
     "iopub.status.busy": "2021-09-27T11:39:14.353031Z",
     "iopub.status.idle": "2021-09-27T11:39:15.123400Z",
     "shell.execute_reply": "2021-09-27T11:39:15.123945Z",
     "shell.execute_reply.started": "2021-09-27T10:12:49.621799Z"
    },
    "papermill": {
     "duration": 0.861345,
     "end_time": "2021-09-27T11:39:15.124154",
     "exception": false,
     "start_time": "2021-09-27T11:39:14.262809",
     "status": "completed"
    },
    "tags": []
   },
   "outputs": [
    {
     "data": {
      "text/plain": [
       "<matplotlib.legend.Legend at 0x200cb476848>"
      ]
     },
     "execution_count": 22,
     "metadata": {},
     "output_type": "execute_result"
    },
    {
     "data": {
      "image/png": "[encoded data removed]",
      "text/plain": [
       "<Figure size 720x360 with 1 Axes>"
      ]
     },
     "metadata": {
      "needs_background": "light"
     },
     "output_type": "display_data"
    }
   ],
   "source": [
    "plt.rcParams['figure.figsize'] = [10, 5]\n",
    "score_bin = pd.crosstab(df.length_of_service,df.is_promoted,normalize='index')\n",
    "score_bin.plot.bar(stacked=True)\n",
    "plt.legend(title='is_promoted',loc='lower left',bbox_to_anchor=(1, 0.5))"
   ]
  },
  {
   "cell_type": "code",
   "execution_count": 23,
   "metadata": {
    "execution": {
     "iopub.execute_input": "2021-09-27T11:39:15.301668Z",
     "iopub.status.busy": "2021-09-27T11:39:15.300813Z",
     "iopub.status.idle": "2021-09-27T11:39:16.031547Z",
     "shell.execute_reply": "2021-09-27T11:39:16.032100Z",
     "shell.execute_reply.started": "2021-09-27T10:13:16.199575Z"
    },
    "papermill": {
     "duration": 0.821845,
     "end_time": "2021-09-27T11:39:16.032314",
     "exception": false,
     "start_time": "2021-09-27T11:39:15.210469",
     "status": "completed"
    },
    "tags": []
   },
   "outputs": [
    {
     "data": {
      "text/plain": [
       "<matplotlib.legend.Legend at 0x200cb905848>"
      ]
     },
     "execution_count": 23,
     "metadata": {},
     "output_type": "execute_result"
    },
    {
     "data": {
      "image/png": "[encoded data removed]",
      "text/plain": [
       "<Figure size 720x360 with 1 Axes>"
      ]
     },
     "metadata": {
      "needs_background": "light"
     },
     "output_type": "display_data"
    }
   ],
   "source": [
    "plt.rcParams['figure.figsize'] = [10, 5]\n",
    "score_bin = pd.crosstab(df.age,df.is_promoted,normalize='index')\n",
    "score_bin.plot.bar(stacked=True)\n",
    "plt.legend(title='is_promoted',loc='lower left',bbox_to_anchor=(1, 0.5))"
   ]
  },
  {
   "cell_type": "code",
   "execution_count": 24,
   "metadata": {
    "execution": {
     "iopub.execute_input": "2021-09-27T11:39:16.214764Z",
     "iopub.status.busy": "2021-09-27T11:39:16.213616Z",
     "iopub.status.idle": "2021-09-27T11:39:17.403623Z",
     "shell.execute_reply": "2021-09-27T11:39:17.404118Z",
     "shell.execute_reply.started": "2021-09-27T10:17:33.375775Z"
    },
    "papermill": {
     "duration": 1.28403,
     "end_time": "2021-09-27T11:39:17.404335",
     "exception": false,
     "start_time": "2021-09-27T11:39:16.120305",
     "status": "completed"
    },
    "tags": []
   },
   "outputs": [
    {
     "data": {
      "text/plain": [
       "<matplotlib.legend.Legend at 0x200ca6f2588>"
      ]
     },
     "execution_count": 24,
     "metadata": {},
     "output_type": "execute_result"
    },
    {
     "data": {
      "image/png": "[encoded data removed]",
      "text/plain": [
       "<Figure size 720x360 with 1 Axes>"
      ]
     },
     "metadata": {
      "needs_background": "light"
     },
     "output_type": "display_data"
    }
   ],
   "source": [
    "plt.rcParams['figure.figsize'] = [10, 5]\n",
    "score_bin = pd.crosstab(df.avg_training_score,df.is_promoted,normalize='index')\n",
    "score_bin.plot.bar(stacked=True)\n",
    "plt.legend(title='is_promoted',loc='lower left',bbox_to_anchor=(1, 0.5))"
   ]
  },
  {
   "cell_type": "markdown",
   "metadata": {
    "papermill": {
     "duration": 0.089253,
     "end_time": "2021-09-27T11:39:17.583099",
     "exception": false,
     "start_time": "2021-09-27T11:39:17.493846",
     "status": "completed"
    },
    "tags": []
   },
   "source": [
    "### When the average training score of the employee is above 90, they have a chance of promotion"
   ]
  },
  {
   "cell_type": "markdown",
   "metadata": {
    "papermill": {
     "duration": 0.091155,
     "end_time": "2021-09-27T11:39:17.764721",
     "exception": false,
     "start_time": "2021-09-27T11:39:17.673566",
     "status": "completed"
    },
    "tags": []
   },
   "source": [
    "## Data Preprocessing"
   ]
  },
  {
   "cell_type": "code",
   "execution_count": 25,
   "metadata": {
    "execution": {
     "iopub.execute_input": "2021-09-27T11:39:17.952116Z",
     "iopub.status.busy": "2021-09-27T11:39:17.950943Z",
     "iopub.status.idle": "2021-09-27T11:39:17.954862Z",
     "shell.execute_reply": "2021-09-27T11:39:17.955431Z",
     "shell.execute_reply.started": "2021-09-27T10:23:13.934504Z"
    },
    "papermill": {
     "duration": 0.098103,
     "end_time": "2021-09-27T11:39:17.955654",
     "exception": false,
     "start_time": "2021-09-27T11:39:17.857551",
     "status": "completed"
    },
    "tags": []
   },
   "outputs": [],
   "source": [
    "le = LabelEncoder()"
   ]
  },
  {
   "cell_type": "code",
   "execution_count": 26,
   "metadata": {
    "execution": {
     "iopub.execute_input": "2021-09-27T11:39:18.164363Z",
     "iopub.status.busy": "2021-09-27T11:39:18.162918Z",
     "iopub.status.idle": "2021-09-27T11:39:18.260896Z",
     "shell.execute_reply": "2021-09-27T11:39:18.257920Z",
     "shell.execute_reply.started": "2021-09-27T10:26:05.162076Z"
    },
    "papermill": {
     "duration": 0.215637,
     "end_time": "2021-09-27T11:39:18.261120",
     "exception": false,
     "start_time": "2021-09-27T11:39:18.045483",
     "status": "completed"
    },
    "tags": []
   },
   "outputs": [],
   "source": [
    "df['department'] = le.fit_transform(df['department'])\n",
    "df['gender'] = le.fit_transform(df['gender'])\n",
    "df['education'] = le.fit_transform(df['education'].astype(str))\n",
    "df['recruitment_channel'] = le.fit_transform(df['recruitment_channel'])\n",
    "df['region']=le.fit_transform(df['region'])"
   ]
  },
  {
   "cell_type": "code",
   "execution_count": 27,
   "metadata": {
    "execution": {
     "iopub.execute_input": "2021-09-27T11:39:18.526142Z",
     "iopub.status.busy": "2021-09-27T11:39:18.525153Z",
     "iopub.status.idle": "2021-09-27T11:39:18.542342Z",
     "shell.execute_reply": "2021-09-27T11:39:18.543275Z",
     "shell.execute_reply.started": "2021-09-27T10:26:15.264441Z"
    },
    "papermill": {
     "duration": 0.190357,
     "end_time": "2021-09-27T11:39:18.543584",
     "exception": false,
     "start_time": "2021-09-27T11:39:18.353227",
     "status": "completed"
    },
    "tags": []
   },
   "outputs": [
    {
     "data": {
      "text/html": [
       "<div>\n",
       "<style scoped>\n",
       "    .dataframe tbody tr th:only-of-type {\n",
       "        vertical-align: middle;\n",
       "    }\n",
       "\n",
       "    .dataframe tbody tr th {\n",
       "        vertical-align: top;\n",
       "    }\n",
       "\n",
       "    .dataframe thead th {\n",
       "        text-align: right;\n",
       "    }\n",
       "</style>\n",
       "<table border=\"1\" class=\"dataframe\">\n",
       "  <thead>\n",
       "    <tr style=\"text-align: right;\">\n",
       "      <th></th>\n",
       "      <th>employee_id</th>\n",
       "      <th>department</th>\n",
       "      <th>region</th>\n",
       "      <th>education</th>\n",
       "      <th>gender</th>\n",
       "      <th>recruitment_channel</th>\n",
       "      <th>no_of_trainings</th>\n",
       "      <th>age</th>\n",
       "      <th>previous_year_rating</th>\n",
       "      <th>length_of_service</th>\n",
       "      <th>awards_won</th>\n",
       "      <th>avg_training_score</th>\n",
       "      <th>is_promoted</th>\n",
       "    </tr>\n",
       "  </thead>\n",
       "  <tbody>\n",
       "    <tr>\n",
       "      <th>0</th>\n",
       "      <td>65438</td>\n",
       "      <td>7</td>\n",
       "      <td>31</td>\n",
       "      <td>2</td>\n",
       "      <td>0</td>\n",
       "      <td>2</td>\n",
       "      <td>1</td>\n",
       "      <td>35</td>\n",
       "      <td>5.0</td>\n",
       "      <td>8</td>\n",
       "      <td>0</td>\n",
       "      <td>49.0</td>\n",
       "      <td>0</td>\n",
       "    </tr>\n",
       "    <tr>\n",
       "      <th>1</th>\n",
       "      <td>65141</td>\n",
       "      <td>4</td>\n",
       "      <td>14</td>\n",
       "      <td>0</td>\n",
       "      <td>1</td>\n",
       "      <td>0</td>\n",
       "      <td>1</td>\n",
       "      <td>30</td>\n",
       "      <td>5.0</td>\n",
       "      <td>4</td>\n",
       "      <td>0</td>\n",
       "      <td>60.0</td>\n",
       "      <td>0</td>\n",
       "    </tr>\n",
       "    <tr>\n",
       "      <th>2</th>\n",
       "      <td>7513</td>\n",
       "      <td>7</td>\n",
       "      <td>10</td>\n",
       "      <td>0</td>\n",
       "      <td>1</td>\n",
       "      <td>2</td>\n",
       "      <td>1</td>\n",
       "      <td>34</td>\n",
       "      <td>3.0</td>\n",
       "      <td>7</td>\n",
       "      <td>0</td>\n",
       "      <td>50.0</td>\n",
       "      <td>0</td>\n",
       "    </tr>\n",
       "    <tr>\n",
       "      <th>3</th>\n",
       "      <td>2542</td>\n",
       "      <td>7</td>\n",
       "      <td>15</td>\n",
       "      <td>0</td>\n",
       "      <td>1</td>\n",
       "      <td>0</td>\n",
       "      <td>2</td>\n",
       "      <td>39</td>\n",
       "      <td>1.0</td>\n",
       "      <td>10</td>\n",
       "      <td>0</td>\n",
       "      <td>50.0</td>\n",
       "      <td>0</td>\n",
       "    </tr>\n",
       "    <tr>\n",
       "      <th>4</th>\n",
       "      <td>48945</td>\n",
       "      <td>8</td>\n",
       "      <td>18</td>\n",
       "      <td>0</td>\n",
       "      <td>1</td>\n",
       "      <td>0</td>\n",
       "      <td>1</td>\n",
       "      <td>45</td>\n",
       "      <td>3.0</td>\n",
       "      <td>2</td>\n",
       "      <td>0</td>\n",
       "      <td>73.0</td>\n",
       "      <td>0</td>\n",
       "    </tr>\n",
       "  </tbody>\n",
       "</table>\n",
       "</div>"
      ],
      "text/plain": [
       "   employee_id  department  region  education  gender  recruitment_channel  \\\n",
       "0        65438           7      31          2       0                    2   \n",
       "1        65141           4      14          0       1                    0   \n",
       "2         7513           7      10          0       1                    2   \n",
       "3         2542           7      15          0       1                    0   \n",
       "4        48945           8      18          0       1                    0   \n",
       "\n",
       "   no_of_trainings  age  previous_year_rating  length_of_service  awards_won  \\\n",
       "0                1   35                   5.0                  8           0   \n",
       "1                1   30                   5.0                  4           0   \n",
       "2                1   34                   3.0                  7           0   \n",
       "3                2   39                   1.0                 10           0   \n",
       "4                1   45                   3.0                  2           0   \n",
       "\n",
       "   avg_training_score  is_promoted  \n",
       "0                49.0            0  \n",
       "1                60.0            0  \n",
       "2                50.0            0  \n",
       "3                50.0            0  \n",
       "4                73.0            0  "
      ]
     },
     "execution_count": 27,
     "metadata": {},
     "output_type": "execute_result"
    }
   ],
   "source": [
    "df.head()"
   ]
  },
  {
   "cell_type": "code",
   "execution_count": 28,
   "metadata": {
    "execution": {
     "iopub.execute_input": "2021-09-27T11:39:18.729496Z",
     "iopub.status.busy": "2021-09-27T11:39:18.728300Z",
     "iopub.status.idle": "2021-09-27T11:39:18.823182Z",
     "shell.execute_reply": "2021-09-27T11:39:18.823755Z",
     "shell.execute_reply.started": "2021-09-27T10:26:48.760131Z"
    },
    "papermill": {
     "duration": 0.190061,
     "end_time": "2021-09-27T11:39:18.823989",
     "exception": false,
     "start_time": "2021-09-27T11:39:18.633928",
     "status": "completed"
    },
    "tags": []
   },
   "outputs": [],
   "source": [
    "cols = [ 'previous_year_rating', 'avg_training_score']\n",
    "for col in cols:\n",
    "   df[col] = df[col].apply(lambda x: int(x) if x == x else 0)"
   ]
  },
  {
   "cell_type": "code",
   "execution_count": 29,
   "metadata": {
    "execution": {
     "iopub.execute_input": "2021-09-27T11:39:19.008643Z",
     "iopub.status.busy": "2021-09-27T11:39:19.007555Z",
     "iopub.status.idle": "2021-09-27T11:39:19.046583Z",
     "shell.execute_reply": "2021-09-27T11:39:19.047131Z",
     "shell.execute_reply.started": "2021-09-27T10:27:54.670824Z"
    },
    "papermill": {
     "duration": 0.133637,
     "end_time": "2021-09-27T11:39:19.047416",
     "exception": false,
     "start_time": "2021-09-27T11:39:18.913779",
     "status": "completed"
    },
    "tags": []
   },
   "outputs": [],
   "source": [
    "df = df.drop('employee_id',axis=1)"
   ]
  },
  {
   "cell_type": "code",
   "execution_count": 30,
   "metadata": {
    "execution": {
     "iopub.execute_input": "2021-09-27T11:39:19.235605Z",
     "iopub.status.busy": "2021-09-27T11:39:19.234083Z",
     "iopub.status.idle": "2021-09-27T11:39:19.248370Z",
     "shell.execute_reply": "2021-09-27T11:39:19.248984Z",
     "shell.execute_reply.started": "2021-09-27T10:28:00.943379Z"
    },
    "papermill": {
     "duration": 0.111066,
     "end_time": "2021-09-27T11:39:19.249196",
     "exception": false,
     "start_time": "2021-09-27T11:39:19.138130",
     "status": "completed"
    },
    "tags": []
   },
   "outputs": [
    {
     "data": {
      "text/html": [
       "<div>\n",
       "<style scoped>\n",
       "    .dataframe tbody tr th:only-of-type {\n",
       "        vertical-align: middle;\n",
       "    }\n",
       "\n",
       "    .dataframe tbody tr th {\n",
       "        vertical-align: top;\n",
       "    }\n",
       "\n",
       "    .dataframe thead th {\n",
       "        text-align: right;\n",
       "    }\n",
       "</style>\n",
       "<table border=\"1\" class=\"dataframe\">\n",
       "  <thead>\n",
       "    <tr style=\"text-align: right;\">\n",
       "      <th></th>\n",
       "      <th>department</th>\n",
       "      <th>region</th>\n",
       "      <th>education</th>\n",
       "      <th>gender</th>\n",
       "      <th>recruitment_channel</th>\n",
       "      <th>no_of_trainings</th>\n",
       "      <th>age</th>\n",
       "      <th>previous_year_rating</th>\n",
       "      <th>length_of_service</th>\n",
       "      <th>awards_won</th>\n",
       "      <th>avg_training_score</th>\n",
       "      <th>is_promoted</th>\n",
       "    </tr>\n",
       "  </thead>\n",
       "  <tbody>\n",
       "    <tr>\n",
       "      <th>0</th>\n",
       "      <td>7</td>\n",
       "      <td>31</td>\n",
       "      <td>2</td>\n",
       "      <td>0</td>\n",
       "      <td>2</td>\n",
       "      <td>1</td>\n",
       "      <td>35</td>\n",
       "      <td>5</td>\n",
       "      <td>8</td>\n",
       "      <td>0</td>\n",
       "      <td>49</td>\n",
       "      <td>0</td>\n",
       "    </tr>\n",
       "    <tr>\n",
       "      <th>1</th>\n",
       "      <td>4</td>\n",
       "      <td>14</td>\n",
       "      <td>0</td>\n",
       "      <td>1</td>\n",
       "      <td>0</td>\n",
       "      <td>1</td>\n",
       "      <td>30</td>\n",
       "      <td>5</td>\n",
       "      <td>4</td>\n",
       "      <td>0</td>\n",
       "      <td>60</td>\n",
       "      <td>0</td>\n",
       "    </tr>\n",
       "    <tr>\n",
       "      <th>2</th>\n",
       "      <td>7</td>\n",
       "      <td>10</td>\n",
       "      <td>0</td>\n",
       "      <td>1</td>\n",
       "      <td>2</td>\n",
       "      <td>1</td>\n",
       "      <td>34</td>\n",
       "      <td>3</td>\n",
       "      <td>7</td>\n",
       "      <td>0</td>\n",
       "      <td>50</td>\n",
       "      <td>0</td>\n",
       "    </tr>\n",
       "    <tr>\n",
       "      <th>3</th>\n",
       "      <td>7</td>\n",
       "      <td>15</td>\n",
       "      <td>0</td>\n",
       "      <td>1</td>\n",
       "      <td>0</td>\n",
       "      <td>2</td>\n",
       "      <td>39</td>\n",
       "      <td>1</td>\n",
       "      <td>10</td>\n",
       "      <td>0</td>\n",
       "      <td>50</td>\n",
       "      <td>0</td>\n",
       "    </tr>\n",
       "    <tr>\n",
       "      <th>4</th>\n",
       "      <td>8</td>\n",
       "      <td>18</td>\n",
       "      <td>0</td>\n",
       "      <td>1</td>\n",
       "      <td>0</td>\n",
       "      <td>1</td>\n",
       "      <td>45</td>\n",
       "      <td>3</td>\n",
       "      <td>2</td>\n",
       "      <td>0</td>\n",
       "      <td>73</td>\n",
       "      <td>0</td>\n",
       "    </tr>\n",
       "  </tbody>\n",
       "</table>\n",
       "</div>"
      ],
      "text/plain": [
       "   department  region  education  gender  recruitment_channel  \\\n",
       "0           7      31          2       0                    2   \n",
       "1           4      14          0       1                    0   \n",
       "2           7      10          0       1                    2   \n",
       "3           7      15          0       1                    0   \n",
       "4           8      18          0       1                    0   \n",
       "\n",
       "   no_of_trainings  age  previous_year_rating  length_of_service  awards_won  \\\n",
       "0                1   35                     5                  8           0   \n",
       "1                1   30                     5                  4           0   \n",
       "2                1   34                     3                  7           0   \n",
       "3                2   39                     1                 10           0   \n",
       "4                1   45                     3                  2           0   \n",
       "\n",
       "   avg_training_score  is_promoted  \n",
       "0                  49            0  \n",
       "1                  60            0  \n",
       "2                  50            0  \n",
       "3                  50            0  \n",
       "4                  73            0  "
      ]
     },
     "execution_count": 30,
     "metadata": {},
     "output_type": "execute_result"
    }
   ],
   "source": [
    "df.head()"
   ]
  },
  {
   "cell_type": "code",
   "execution_count": 31,
   "metadata": {
    "execution": {
     "iopub.execute_input": "2021-09-27T11:39:19.436586Z",
     "iopub.status.busy": "2021-09-27T11:39:19.435428Z",
     "iopub.status.idle": "2021-09-27T11:39:19.444681Z",
     "shell.execute_reply": "2021-09-27T11:39:19.445250Z",
     "shell.execute_reply.started": "2021-09-27T10:28:30.316802Z"
    },
    "papermill": {
     "duration": 0.103856,
     "end_time": "2021-09-27T11:39:19.445481",
     "exception": false,
     "start_time": "2021-09-27T11:39:19.341625",
     "status": "completed"
    },
    "tags": []
   },
   "outputs": [
    {
     "data": {
      "text/plain": [
       "0    36669\n",
       "2    14925\n",
       "3     2409\n",
       "1      805\n",
       "Name: education, dtype: int64"
      ]
     },
     "execution_count": 31,
     "metadata": {},
     "output_type": "execute_result"
    }
   ],
   "source": [
    "df['education'].value_counts()"
   ]
  },
  {
   "cell_type": "code",
   "execution_count": 32,
   "metadata": {
    "execution": {
     "iopub.execute_input": "2021-09-27T11:39:19.634165Z",
     "iopub.status.busy": "2021-09-27T11:39:19.631550Z",
     "iopub.status.idle": "2021-09-27T11:39:19.643525Z",
     "shell.execute_reply": "2021-09-27T11:39:19.644133Z",
     "shell.execute_reply.started": "2021-09-27T10:28:58.633655Z"
    },
    "papermill": {
     "duration": 0.107946,
     "end_time": "2021-09-27T11:39:19.644369",
     "exception": false,
     "start_time": "2021-09-27T11:39:19.536423",
     "status": "completed"
    },
    "tags": []
   },
   "outputs": [
    {
     "data": {
      "text/plain": [
       "department              0\n",
       "region                  0\n",
       "education               0\n",
       "gender                  0\n",
       "recruitment_channel     0\n",
       "no_of_trainings         0\n",
       "age                     0\n",
       "previous_year_rating    0\n",
       "length_of_service       0\n",
       "awards_won              0\n",
       "avg_training_score      0\n",
       "is_promoted             0\n",
       "dtype: int64"
      ]
     },
     "execution_count": 32,
     "metadata": {},
     "output_type": "execute_result"
    }
   ],
   "source": [
    "df.isnull().sum()"
   ]
  },
  {
   "cell_type": "code",
   "execution_count": 33,
   "metadata": {
    "execution": {
     "iopub.execute_input": "2021-09-27T11:39:19.831113Z",
     "iopub.status.busy": "2021-09-27T11:39:19.830363Z",
     "iopub.status.idle": "2021-09-27T11:47:01.263011Z",
     "shell.execute_reply": "2021-09-27T11:47:01.263658Z",
     "shell.execute_reply.started": "2021-09-27T10:32:56.633393Z"
    },
    "papermill": {
     "duration": 461.528586,
     "end_time": "2021-09-27T11:47:01.263895",
     "exception": false,
     "start_time": "2021-09-27T11:39:19.735309",
     "status": "completed"
    },
    "tags": []
   },
   "outputs": [
    {
     "ename": "RuntimeError",
     "evalue": "Selected KDE bandwidth is 0. Cannot estiamte density.",
     "output_type": "error",
     "traceback": [
      "\u001b[1;31m---------------------------------------------------------------------------\u001b[0m",
      "\u001b[1;31mValueError\u001b[0m                                Traceback (most recent call last)",
      "\u001b[1;32m~\\anaconda3\\lib\\site-packages\\statsmodels\\nonparametric\\kde.py\u001b[0m in \u001b[0;36mkdensityfft\u001b[1;34m(X, kernel, bw, weights, gridsize, adjust, clip, cut, retgrid)\u001b[0m\n\u001b[0;32m    450\u001b[0m     \u001b[1;32mtry\u001b[0m\u001b[1;33m:\u001b[0m\u001b[1;33m\u001b[0m\u001b[1;33m\u001b[0m\u001b[0m\n\u001b[1;32m--> 451\u001b[1;33m         \u001b[0mbw\u001b[0m \u001b[1;33m=\u001b[0m \u001b[0mfloat\u001b[0m\u001b[1;33m(\u001b[0m\u001b[0mbw\u001b[0m\u001b[1;33m)\u001b[0m\u001b[1;33m\u001b[0m\u001b[1;33m\u001b[0m\u001b[0m\n\u001b[0m\u001b[0;32m    452\u001b[0m     \u001b[1;32mexcept\u001b[0m\u001b[1;33m:\u001b[0m\u001b[1;33m\u001b[0m\u001b[1;33m\u001b[0m\u001b[0m\n",
      "\u001b[1;31mValueError\u001b[0m: could not convert string to float: 'scott'",
      "\nDuring handling of the above exception, another exception occurred:\n",
      "\u001b[1;31mRuntimeError\u001b[0m                              Traceback (most recent call last)",
      "\u001b[1;32m<ipython-input-33-5e5f23d85582>\u001b[0m in \u001b[0;36m<module>\u001b[1;34m\u001b[0m\n\u001b[1;32m----> 1\u001b[1;33m \u001b[0msns\u001b[0m\u001b[1;33m.\u001b[0m\u001b[0mpairplot\u001b[0m\u001b[1;33m(\u001b[0m\u001b[0mdf\u001b[0m\u001b[1;33m,\u001b[0m\u001b[0mhue\u001b[0m\u001b[1;33m=\u001b[0m\u001b[1;34m'is_promoted'\u001b[0m\u001b[1;33m)\u001b[0m\u001b[1;33m\u001b[0m\u001b[1;33m\u001b[0m\u001b[0m\n\u001b[0m",
      "\u001b[1;32m~\\anaconda3\\lib\\site-packages\\seaborn\\axisgrid.py\u001b[0m in \u001b[0;36mpairplot\u001b[1;34m(data, hue, hue_order, palette, vars, x_vars, y_vars, kind, diag_kind, markers, height, aspect, corner, dropna, plot_kws, diag_kws, grid_kws, size)\u001b[0m\n\u001b[0;32m   2119\u001b[0m             \u001b[0mdiag_kws\u001b[0m\u001b[1;33m.\u001b[0m\u001b[0msetdefault\u001b[0m\u001b[1;33m(\u001b[0m\u001b[1;34m\"shade\"\u001b[0m\u001b[1;33m,\u001b[0m \u001b[1;32mTrue\u001b[0m\u001b[1;33m)\u001b[0m\u001b[1;33m\u001b[0m\u001b[1;33m\u001b[0m\u001b[0m\n\u001b[0;32m   2120\u001b[0m             \u001b[0mdiag_kws\u001b[0m\u001b[1;33m[\u001b[0m\u001b[1;34m\"legend\"\u001b[0m\u001b[1;33m]\u001b[0m \u001b[1;33m=\u001b[0m \u001b[1;32mFalse\u001b[0m\u001b[1;33m\u001b[0m\u001b[1;33m\u001b[0m\u001b[0m\n\u001b[1;32m-> 2121\u001b[1;33m             \u001b[0mgrid\u001b[0m\u001b[1;33m.\u001b[0m\u001b[0mmap_diag\u001b[0m\u001b[1;33m(\u001b[0m\u001b[0mkdeplot\u001b[0m\u001b[1;33m,\u001b[0m \u001b[1;33m**\u001b[0m\u001b[0mdiag_kws\u001b[0m\u001b[1;33m)\u001b[0m\u001b[1;33m\u001b[0m\u001b[1;33m\u001b[0m\u001b[0m\n\u001b[0m\u001b[0;32m   2122\u001b[0m \u001b[1;33m\u001b[0m\u001b[0m\n\u001b[0;32m   2123\u001b[0m     \u001b[1;31m# Maybe plot on the off-diagonals\u001b[0m\u001b[1;33m\u001b[0m\u001b[1;33m\u001b[0m\u001b[1;33m\u001b[0m\u001b[0m\n",
      "\u001b[1;32m~\\anaconda3\\lib\\site-packages\\seaborn\\axisgrid.py\u001b[0m in \u001b[0;36mmap_diag\u001b[1;34m(self, func, **kwargs)\u001b[0m\n\u001b[0;32m   1488\u001b[0m                     \u001b[0mdata_k\u001b[0m \u001b[1;33m=\u001b[0m \u001b[0mutils\u001b[0m\u001b[1;33m.\u001b[0m\u001b[0mremove_na\u001b[0m\u001b[1;33m(\u001b[0m\u001b[0mdata_k\u001b[0m\u001b[1;33m)\u001b[0m\u001b[1;33m\u001b[0m\u001b[1;33m\u001b[0m\u001b[0m\n\u001b[0;32m   1489\u001b[0m \u001b[1;33m\u001b[0m\u001b[0m\n\u001b[1;32m-> 1490\u001b[1;33m                 \u001b[0mfunc\u001b[0m\u001b[1;33m(\u001b[0m\u001b[0mdata_k\u001b[0m\u001b[1;33m,\u001b[0m \u001b[0mlabel\u001b[0m\u001b[1;33m=\u001b[0m\u001b[0mlabel_k\u001b[0m\u001b[1;33m,\u001b[0m \u001b[0mcolor\u001b[0m\u001b[1;33m=\u001b[0m\u001b[0mcolor\u001b[0m\u001b[1;33m,\u001b[0m \u001b[1;33m**\u001b[0m\u001b[0mkwargs\u001b[0m\u001b[1;33m)\u001b[0m\u001b[1;33m\u001b[0m\u001b[1;33m\u001b[0m\u001b[0m\n\u001b[0m\u001b[0;32m   1491\u001b[0m \u001b[1;33m\u001b[0m\u001b[0m\n\u001b[0;32m   1492\u001b[0m             \u001b[0mself\u001b[0m\u001b[1;33m.\u001b[0m\u001b[0m_clean_axis\u001b[0m\u001b[1;33m(\u001b[0m\u001b[0max\u001b[0m\u001b[1;33m)\u001b[0m\u001b[1;33m\u001b[0m\u001b[1;33m\u001b[0m\u001b[0m\n",
      "\u001b[1;32m~\\anaconda3\\lib\\site-packages\\seaborn\\distributions.py\u001b[0m in \u001b[0;36mkdeplot\u001b[1;34m(data, data2, shade, vertical, kernel, bw, gridsize, cut, clip, legend, cumulative, shade_lowest, cbar, cbar_ax, cbar_kws, ax, **kwargs)\u001b[0m\n\u001b[0;32m    703\u001b[0m         ax = _univariate_kdeplot(data, shade, vertical, kernel, bw,\n\u001b[0;32m    704\u001b[0m                                  \u001b[0mgridsize\u001b[0m\u001b[1;33m,\u001b[0m \u001b[0mcut\u001b[0m\u001b[1;33m,\u001b[0m \u001b[0mclip\u001b[0m\u001b[1;33m,\u001b[0m \u001b[0mlegend\u001b[0m\u001b[1;33m,\u001b[0m \u001b[0max\u001b[0m\u001b[1;33m,\u001b[0m\u001b[1;33m\u001b[0m\u001b[1;33m\u001b[0m\u001b[0m\n\u001b[1;32m--> 705\u001b[1;33m                                  cumulative=cumulative, **kwargs)\n\u001b[0m\u001b[0;32m    706\u001b[0m \u001b[1;33m\u001b[0m\u001b[0m\n\u001b[0;32m    707\u001b[0m     \u001b[1;32mreturn\u001b[0m \u001b[0max\u001b[0m\u001b[1;33m\u001b[0m\u001b[1;33m\u001b[0m\u001b[0m\n",
      "\u001b[1;32m~\\anaconda3\\lib\\site-packages\\seaborn\\distributions.py\u001b[0m in \u001b[0;36m_univariate_kdeplot\u001b[1;34m(data, shade, vertical, kernel, bw, gridsize, cut, clip, legend, ax, cumulative, **kwargs)\u001b[0m\n\u001b[0;32m    293\u001b[0m         x, y = _statsmodels_univariate_kde(data, kernel, bw,\n\u001b[0;32m    294\u001b[0m                                            \u001b[0mgridsize\u001b[0m\u001b[1;33m,\u001b[0m \u001b[0mcut\u001b[0m\u001b[1;33m,\u001b[0m \u001b[0mclip\u001b[0m\u001b[1;33m,\u001b[0m\u001b[1;33m\u001b[0m\u001b[1;33m\u001b[0m\u001b[0m\n\u001b[1;32m--> 295\u001b[1;33m                                            cumulative=cumulative)\n\u001b[0m\u001b[0;32m    296\u001b[0m     \u001b[1;32melse\u001b[0m\u001b[1;33m:\u001b[0m\u001b[1;33m\u001b[0m\u001b[1;33m\u001b[0m\u001b[0m\n\u001b[0;32m    297\u001b[0m         \u001b[1;31m# Fall back to scipy if missing statsmodels\u001b[0m\u001b[1;33m\u001b[0m\u001b[1;33m\u001b[0m\u001b[1;33m\u001b[0m\u001b[0m\n",
      "\u001b[1;32m~\\anaconda3\\lib\\site-packages\\seaborn\\distributions.py\u001b[0m in \u001b[0;36m_statsmodels_univariate_kde\u001b[1;34m(data, kernel, bw, gridsize, cut, clip, cumulative)\u001b[0m\n\u001b[0;32m    365\u001b[0m     \u001b[0mfft\u001b[0m \u001b[1;33m=\u001b[0m \u001b[0mkernel\u001b[0m \u001b[1;33m==\u001b[0m \u001b[1;34m\"gau\"\u001b[0m\u001b[1;33m\u001b[0m\u001b[1;33m\u001b[0m\u001b[0m\n\u001b[0;32m    366\u001b[0m     \u001b[0mkde\u001b[0m \u001b[1;33m=\u001b[0m \u001b[0msmnp\u001b[0m\u001b[1;33m.\u001b[0m\u001b[0mKDEUnivariate\u001b[0m\u001b[1;33m(\u001b[0m\u001b[0mdata\u001b[0m\u001b[1;33m)\u001b[0m\u001b[1;33m\u001b[0m\u001b[1;33m\u001b[0m\u001b[0m\n\u001b[1;32m--> 367\u001b[1;33m     \u001b[0mkde\u001b[0m\u001b[1;33m.\u001b[0m\u001b[0mfit\u001b[0m\u001b[1;33m(\u001b[0m\u001b[0mkernel\u001b[0m\u001b[1;33m,\u001b[0m \u001b[0mbw\u001b[0m\u001b[1;33m,\u001b[0m \u001b[0mfft\u001b[0m\u001b[1;33m,\u001b[0m \u001b[0mgridsize\u001b[0m\u001b[1;33m=\u001b[0m\u001b[0mgridsize\u001b[0m\u001b[1;33m,\u001b[0m \u001b[0mcut\u001b[0m\u001b[1;33m=\u001b[0m\u001b[0mcut\u001b[0m\u001b[1;33m,\u001b[0m \u001b[0mclip\u001b[0m\u001b[1;33m=\u001b[0m\u001b[0mclip\u001b[0m\u001b[1;33m)\u001b[0m\u001b[1;33m\u001b[0m\u001b[1;33m\u001b[0m\u001b[0m\n\u001b[0m\u001b[0;32m    368\u001b[0m     \u001b[1;32mif\u001b[0m \u001b[0mcumulative\u001b[0m\u001b[1;33m:\u001b[0m\u001b[1;33m\u001b[0m\u001b[1;33m\u001b[0m\u001b[0m\n\u001b[0;32m    369\u001b[0m         \u001b[0mgrid\u001b[0m\u001b[1;33m,\u001b[0m \u001b[0my\u001b[0m \u001b[1;33m=\u001b[0m \u001b[0mkde\u001b[0m\u001b[1;33m.\u001b[0m\u001b[0msupport\u001b[0m\u001b[1;33m,\u001b[0m \u001b[0mkde\u001b[0m\u001b[1;33m.\u001b[0m\u001b[0mcdf\u001b[0m\u001b[1;33m\u001b[0m\u001b[1;33m\u001b[0m\u001b[0m\n",
      "\u001b[1;32m~\\anaconda3\\lib\\site-packages\\statsmodels\\nonparametric\\kde.py\u001b[0m in \u001b[0;36mfit\u001b[1;34m(self, kernel, bw, fft, weights, gridsize, adjust, cut, clip)\u001b[0m\n\u001b[0;32m    138\u001b[0m             density, grid, bw = kdensityfft(endog, kernel=kernel, bw=bw,\n\u001b[0;32m    139\u001b[0m                     \u001b[0madjust\u001b[0m\u001b[1;33m=\u001b[0m\u001b[0madjust\u001b[0m\u001b[1;33m,\u001b[0m \u001b[0mweights\u001b[0m\u001b[1;33m=\u001b[0m\u001b[0mweights\u001b[0m\u001b[1;33m,\u001b[0m \u001b[0mgridsize\u001b[0m\u001b[1;33m=\u001b[0m\u001b[0mgridsize\u001b[0m\u001b[1;33m,\u001b[0m\u001b[1;33m\u001b[0m\u001b[1;33m\u001b[0m\u001b[0m\n\u001b[1;32m--> 140\u001b[1;33m                     clip=clip, cut=cut)\n\u001b[0m\u001b[0;32m    141\u001b[0m         \u001b[1;32melse\u001b[0m\u001b[1;33m:\u001b[0m\u001b[1;33m\u001b[0m\u001b[1;33m\u001b[0m\u001b[0m\n\u001b[0;32m    142\u001b[0m             density, grid, bw = kdensity(endog, kernel=kernel, bw=bw,\n",
      "\u001b[1;32m~\\anaconda3\\lib\\site-packages\\statsmodels\\nonparametric\\kde.py\u001b[0m in \u001b[0;36mkdensityfft\u001b[1;34m(X, kernel, bw, weights, gridsize, adjust, clip, cut, retgrid)\u001b[0m\n\u001b[0;32m    451\u001b[0m         \u001b[0mbw\u001b[0m \u001b[1;33m=\u001b[0m \u001b[0mfloat\u001b[0m\u001b[1;33m(\u001b[0m\u001b[0mbw\u001b[0m\u001b[1;33m)\u001b[0m\u001b[1;33m\u001b[0m\u001b[1;33m\u001b[0m\u001b[0m\n\u001b[0;32m    452\u001b[0m     \u001b[1;32mexcept\u001b[0m\u001b[1;33m:\u001b[0m\u001b[1;33m\u001b[0m\u001b[1;33m\u001b[0m\u001b[0m\n\u001b[1;32m--> 453\u001b[1;33m         \u001b[0mbw\u001b[0m \u001b[1;33m=\u001b[0m \u001b[0mbandwidths\u001b[0m\u001b[1;33m.\u001b[0m\u001b[0mselect_bandwidth\u001b[0m\u001b[1;33m(\u001b[0m\u001b[0mX\u001b[0m\u001b[1;33m,\u001b[0m \u001b[0mbw\u001b[0m\u001b[1;33m,\u001b[0m \u001b[0mkern\u001b[0m\u001b[1;33m)\u001b[0m \u001b[1;31m# will cross-val fit this pattern?\u001b[0m\u001b[1;33m\u001b[0m\u001b[1;33m\u001b[0m\u001b[0m\n\u001b[0m\u001b[0;32m    454\u001b[0m     \u001b[0mbw\u001b[0m \u001b[1;33m*=\u001b[0m \u001b[0madjust\u001b[0m\u001b[1;33m\u001b[0m\u001b[1;33m\u001b[0m\u001b[0m\n\u001b[0;32m    455\u001b[0m \u001b[1;33m\u001b[0m\u001b[0m\n",
      "\u001b[1;32m~\\anaconda3\\lib\\site-packages\\statsmodels\\nonparametric\\bandwidths.py\u001b[0m in \u001b[0;36mselect_bandwidth\u001b[1;34m(x, bw, kernel)\u001b[0m\n\u001b[0;32m    172\u001b[0m         \u001b[1;31m# eventually this can fall back on another selection criterion.\u001b[0m\u001b[1;33m\u001b[0m\u001b[1;33m\u001b[0m\u001b[1;33m\u001b[0m\u001b[0m\n\u001b[0;32m    173\u001b[0m         \u001b[0merr\u001b[0m \u001b[1;33m=\u001b[0m \u001b[1;34m\"Selected KDE bandwidth is 0. Cannot estiamte density.\"\u001b[0m\u001b[1;33m\u001b[0m\u001b[1;33m\u001b[0m\u001b[0m\n\u001b[1;32m--> 174\u001b[1;33m         \u001b[1;32mraise\u001b[0m \u001b[0mRuntimeError\u001b[0m\u001b[1;33m(\u001b[0m\u001b[0merr\u001b[0m\u001b[1;33m)\u001b[0m\u001b[1;33m\u001b[0m\u001b[1;33m\u001b[0m\u001b[0m\n\u001b[0m\u001b[0;32m    175\u001b[0m     \u001b[1;32melse\u001b[0m\u001b[1;33m:\u001b[0m\u001b[1;33m\u001b[0m\u001b[1;33m\u001b[0m\u001b[0m\n\u001b[0;32m    176\u001b[0m         \u001b[1;32mreturn\u001b[0m \u001b[0mbandwidth\u001b[0m\u001b[1;33m\u001b[0m\u001b[1;33m\u001b[0m\u001b[0m\n",
      "\u001b[1;31mRuntimeError\u001b[0m: Selected KDE bandwidth is 0. Cannot estiamte density."
     ]
    },
    {
     "data": {
      "image/png": "[encoded data removed]",
      "text/plain": [
       "<Figure size 1980x1980 with 132 Axes>"
      ]
     },
     "metadata": {
      "needs_background": "light"
     },
     "output_type": "display_data"
    }
   ],
   "source": [
    "sns.pairplot(df,hue='is_promoted')"
   ]
  },
  {
   "cell_type": "markdown",
   "metadata": {
    "papermill": {
     "duration": 0.131589,
     "end_time": "2021-09-27T11:47:01.530611",
     "exception": false,
     "start_time": "2021-09-27T11:47:01.399022",
     "status": "completed"
    },
    "tags": []
   },
   "source": [
    "## HeatMap & Correlation Matrix"
   ]
  },
  {
   "cell_type": "code",
   "execution_count": 34,
   "metadata": {
    "execution": {
     "iopub.execute_input": "2021-09-27T11:47:01.799026Z",
     "iopub.status.busy": "2021-09-27T11:47:01.798193Z",
     "iopub.status.idle": "2021-09-27T11:47:01.851673Z",
     "shell.execute_reply": "2021-09-27T11:47:01.852204Z",
     "shell.execute_reply.started": "2021-09-27T10:31:17.089652Z"
    },
    "papermill": {
     "duration": 0.191051,
     "end_time": "2021-09-27T11:47:01.852426",
     "exception": false,
     "start_time": "2021-09-27T11:47:01.661375",
     "status": "completed"
    },
    "tags": []
   },
   "outputs": [
    {
     "data": {
      "text/html": [
       "<div>\n",
       "<style scoped>\n",
       "    .dataframe tbody tr th:only-of-type {\n",
       "        vertical-align: middle;\n",
       "    }\n",
       "\n",
       "    .dataframe tbody tr th {\n",
       "        vertical-align: top;\n",
       "    }\n",
       "\n",
       "    .dataframe thead th {\n",
       "        text-align: right;\n",
       "    }\n",
       "</style>\n",
       "<table border=\"1\" class=\"dataframe\">\n",
       "  <thead>\n",
       "    <tr style=\"text-align: right;\">\n",
       "      <th></th>\n",
       "      <th>department</th>\n",
       "      <th>region</th>\n",
       "      <th>education</th>\n",
       "      <th>gender</th>\n",
       "      <th>recruitment_channel</th>\n",
       "      <th>no_of_trainings</th>\n",
       "      <th>age</th>\n",
       "      <th>previous_year_rating</th>\n",
       "      <th>length_of_service</th>\n",
       "      <th>awards_won</th>\n",
       "      <th>avg_training_score</th>\n",
       "      <th>is_promoted</th>\n",
       "    </tr>\n",
       "  </thead>\n",
       "  <tbody>\n",
       "    <tr>\n",
       "      <th>department</th>\n",
       "      <td>1.000000</td>\n",
       "      <td>-0.020592</td>\n",
       "      <td>0.068075</td>\n",
       "      <td>-0.030108</td>\n",
       "      <td>0.004732</td>\n",
       "      <td>0.014152</td>\n",
       "      <td>0.079162</td>\n",
       "      <td>-0.100340</td>\n",
       "      <td>0.059060</td>\n",
       "      <td>-0.002151</td>\n",
       "      <td>-0.129774</td>\n",
       "      <td>0.000130</td>\n",
       "    </tr>\n",
       "    <tr>\n",
       "      <th>region</th>\n",
       "      <td>-0.020592</td>\n",
       "      <td>1.000000</td>\n",
       "      <td>-0.006510</td>\n",
       "      <td>0.019730</td>\n",
       "      <td>-0.000920</td>\n",
       "      <td>-0.004590</td>\n",
       "      <td>-0.088918</td>\n",
       "      <td>-0.013465</td>\n",
       "      <td>-0.058939</td>\n",
       "      <td>0.000307</td>\n",
       "      <td>0.018564</td>\n",
       "      <td>0.008841</td>\n",
       "    </tr>\n",
       "    <tr>\n",
       "      <th>education</th>\n",
       "      <td>0.068075</td>\n",
       "      <td>-0.006510</td>\n",
       "      <td>1.000000</td>\n",
       "      <td>0.010125</td>\n",
       "      <td>-0.005973</td>\n",
       "      <td>-0.044336</td>\n",
       "      <td>0.233830</td>\n",
       "      <td>0.042179</td>\n",
       "      <td>0.161002</td>\n",
       "      <td>-0.001175</td>\n",
       "      <td>-0.002836</td>\n",
       "      <td>0.009608</td>\n",
       "    </tr>\n",
       "    <tr>\n",
       "      <th>gender</th>\n",
       "      <td>-0.030108</td>\n",
       "      <td>0.019730</td>\n",
       "      <td>0.010125</td>\n",
       "      <td>1.000000</td>\n",
       "      <td>0.006567</td>\n",
       "      <td>0.084501</td>\n",
       "      <td>-0.016293</td>\n",
       "      <td>-0.025053</td>\n",
       "      <td>-0.019675</td>\n",
       "      <td>0.002381</td>\n",
       "      <td>-0.004862</td>\n",
       "      <td>-0.011109</td>\n",
       "    </tr>\n",
       "    <tr>\n",
       "      <th>recruitment_channel</th>\n",
       "      <td>0.004732</td>\n",
       "      <td>-0.000920</td>\n",
       "      <td>-0.005973</td>\n",
       "      <td>0.006567</td>\n",
       "      <td>1.000000</td>\n",
       "      <td>-0.010405</td>\n",
       "      <td>-0.011400</td>\n",
       "      <td>0.003506</td>\n",
       "      <td>-0.002887</td>\n",
       "      <td>-0.005510</td>\n",
       "      <td>-0.002449</td>\n",
       "      <td>0.002229</td>\n",
       "    </tr>\n",
       "    <tr>\n",
       "      <th>no_of_trainings</th>\n",
       "      <td>0.014152</td>\n",
       "      <td>-0.004590</td>\n",
       "      <td>-0.044336</td>\n",
       "      <td>0.084501</td>\n",
       "      <td>-0.010405</td>\n",
       "      <td>1.000000</td>\n",
       "      <td>-0.081278</td>\n",
       "      <td>-0.064119</td>\n",
       "      <td>-0.057275</td>\n",
       "      <td>-0.007628</td>\n",
       "      <td>0.042634</td>\n",
       "      <td>-0.024896</td>\n",
       "    </tr>\n",
       "    <tr>\n",
       "      <th>age</th>\n",
       "      <td>0.079162</td>\n",
       "      <td>-0.088918</td>\n",
       "      <td>0.233830</td>\n",
       "      <td>-0.016293</td>\n",
       "      <td>-0.011400</td>\n",
       "      <td>-0.081278</td>\n",
       "      <td>1.000000</td>\n",
       "      <td>0.177935</td>\n",
       "      <td>0.657111</td>\n",
       "      <td>-0.008169</td>\n",
       "      <td>-0.041198</td>\n",
       "      <td>-0.017166</td>\n",
       "    </tr>\n",
       "    <tr>\n",
       "      <th>previous_year_rating</th>\n",
       "      <td>-0.100340</td>\n",
       "      <td>-0.013465</td>\n",
       "      <td>0.042179</td>\n",
       "      <td>-0.025053</td>\n",
       "      <td>0.003506</td>\n",
       "      <td>-0.064119</td>\n",
       "      <td>0.177935</td>\n",
       "      <td>1.000000</td>\n",
       "      <td>0.191163</td>\n",
       "      <td>0.021475</td>\n",
       "      <td>0.031689</td>\n",
       "      <td>0.125991</td>\n",
       "    </tr>\n",
       "    <tr>\n",
       "      <th>length_of_service</th>\n",
       "      <td>0.059060</td>\n",
       "      <td>-0.058939</td>\n",
       "      <td>0.161002</td>\n",
       "      <td>-0.019675</td>\n",
       "      <td>-0.002887</td>\n",
       "      <td>-0.057275</td>\n",
       "      <td>0.657111</td>\n",
       "      <td>0.191163</td>\n",
       "      <td>1.000000</td>\n",
       "      <td>-0.039927</td>\n",
       "      <td>-0.029505</td>\n",
       "      <td>-0.010670</td>\n",
       "    </tr>\n",
       "    <tr>\n",
       "      <th>awards_won</th>\n",
       "      <td>-0.002151</td>\n",
       "      <td>0.000307</td>\n",
       "      <td>-0.001175</td>\n",
       "      <td>0.002381</td>\n",
       "      <td>-0.005510</td>\n",
       "      <td>-0.007628</td>\n",
       "      <td>-0.008169</td>\n",
       "      <td>0.021475</td>\n",
       "      <td>-0.039927</td>\n",
       "      <td>1.000000</td>\n",
       "      <td>0.057622</td>\n",
       "      <td>0.195871</td>\n",
       "    </tr>\n",
       "    <tr>\n",
       "      <th>avg_training_score</th>\n",
       "      <td>-0.129774</td>\n",
       "      <td>0.018564</td>\n",
       "      <td>-0.002836</td>\n",
       "      <td>-0.004862</td>\n",
       "      <td>-0.002449</td>\n",
       "      <td>0.042634</td>\n",
       "      <td>-0.041198</td>\n",
       "      <td>0.031689</td>\n",
       "      <td>-0.029505</td>\n",
       "      <td>0.057622</td>\n",
       "      <td>1.000000</td>\n",
       "      <td>0.135733</td>\n",
       "    </tr>\n",
       "    <tr>\n",
       "      <th>is_promoted</th>\n",
       "      <td>0.000130</td>\n",
       "      <td>0.008841</td>\n",
       "      <td>0.009608</td>\n",
       "      <td>-0.011109</td>\n",
       "      <td>0.002229</td>\n",
       "      <td>-0.024896</td>\n",
       "      <td>-0.017166</td>\n",
       "      <td>0.125991</td>\n",
       "      <td>-0.010670</td>\n",
       "      <td>0.195871</td>\n",
       "      <td>0.135733</td>\n",
       "      <td>1.000000</td>\n",
       "    </tr>\n",
       "  </tbody>\n",
       "</table>\n",
       "</div>"
      ],
      "text/plain": [
       "                      department    region  education    gender  \\\n",
       "department              1.000000 -0.020592   0.068075 -0.030108   \n",
       "region                 -0.020592  1.000000  -0.006510  0.019730   \n",
       "education               0.068075 -0.006510   1.000000  0.010125   \n",
       "gender                 -0.030108  0.019730   0.010125  1.000000   \n",
       "recruitment_channel     0.004732 -0.000920  -0.005973  0.006567   \n",
       "no_of_trainings         0.014152 -0.004590  -0.044336  0.084501   \n",
       "age                     0.079162 -0.088918   0.233830 -0.016293   \n",
       "previous_year_rating   -0.100340 -0.013465   0.042179 -0.025053   \n",
       "length_of_service       0.059060 -0.058939   0.161002 -0.019675   \n",
       "awards_won             -0.002151  0.000307  -0.001175  0.002381   \n",
       "avg_training_score     -0.129774  0.018564  -0.002836 -0.004862   \n",
       "is_promoted             0.000130  0.008841   0.009608 -0.011109   \n",
       "\n",
       "                      recruitment_channel  no_of_trainings       age  \\\n",
       "department                       0.004732         0.014152  0.079162   \n",
       "region                          -0.000920        -0.004590 -0.088918   \n",
       "education                       -0.005973        -0.044336  0.233830   \n",
       "gender                           0.006567         0.084501 -0.016293   \n",
       "recruitment_channel              1.000000        -0.010405 -0.011400   \n",
       "no_of_trainings                 -0.010405         1.000000 -0.081278   \n",
       "age                             -0.011400        -0.081278  1.000000   \n",
       "previous_year_rating             0.003506        -0.064119  0.177935   \n",
       "length_of_service               -0.002887        -0.057275  0.657111   \n",
       "awards_won                      -0.005510        -0.007628 -0.008169   \n",
       "avg_training_score              -0.002449         0.042634 -0.041198   \n",
       "is_promoted                      0.002229        -0.024896 -0.017166   \n",
       "\n",
       "                      previous_year_rating  length_of_service  awards_won  \\\n",
       "department                       -0.100340           0.059060   -0.002151   \n",
       "region                           -0.013465          -0.058939    0.000307   \n",
       "education                         0.042179           0.161002   -0.001175   \n",
       "gender                           -0.025053          -0.019675    0.002381   \n",
       "recruitment_channel               0.003506          -0.002887   -0.005510   \n",
       "no_of_trainings                  -0.064119          -0.057275   -0.007628   \n",
       "age                               0.177935           0.657111   -0.008169   \n",
       "previous_year_rating              1.000000           0.191163    0.021475   \n",
       "length_of_service                 0.191163           1.000000   -0.039927   \n",
       "awards_won                        0.021475          -0.039927    1.000000   \n",
       "avg_training_score                0.031689          -0.029505    0.057622   \n",
       "is_promoted                       0.125991          -0.010670    0.195871   \n",
       "\n",
       "                      avg_training_score  is_promoted  \n",
       "department                     -0.129774     0.000130  \n",
       "region                          0.018564     0.008841  \n",
       "education                      -0.002836     0.009608  \n",
       "gender                         -0.004862    -0.011109  \n",
       "recruitment_channel            -0.002449     0.002229  \n",
       "no_of_trainings                 0.042634    -0.024896  \n",
       "age                            -0.041198    -0.017166  \n",
       "previous_year_rating            0.031689     0.125991  \n",
       "length_of_service              -0.029505    -0.010670  \n",
       "awards_won                      0.057622     0.195871  \n",
       "avg_training_score              1.000000     0.135733  \n",
       "is_promoted                     0.135733     1.000000  "
      ]
     },
     "execution_count": 34,
     "metadata": {},
     "output_type": "execute_result"
    }
   ],
   "source": [
    "tc = df.corr()\n",
    "tc"
   ]
  },
  {
   "cell_type": "code",
   "execution_count": 35,
   "metadata": {
    "execution": {
     "iopub.execute_input": "2021-09-27T11:47:02.142246Z",
     "iopub.status.busy": "2021-09-27T11:47:02.126457Z",
     "iopub.status.idle": "2021-09-27T11:47:03.357945Z",
     "shell.execute_reply": "2021-09-27T11:47:03.357262Z",
     "shell.execute_reply.started": "2021-09-27T10:31:36.684324Z"
    },
    "papermill": {
     "duration": 1.373745,
     "end_time": "2021-09-27T11:47:03.358115",
     "exception": false,
     "start_time": "2021-09-27T11:47:01.984370",
     "status": "completed"
    },
    "tags": []
   },
   "outputs": [
    {
     "data": {
      "text/plain": [
       "<matplotlib.axes._subplots.AxesSubplot at 0x200d10ec7c8>"
      ]
     },
     "execution_count": 35,
     "metadata": {},
     "output_type": "execute_result"
    },
    {
     "data": {
      "image/png": "[encoded data removed]",
      "text/plain": [
       "<Figure size 720x360 with 2 Axes>"
      ]
     },
     "metadata": {
      "needs_background": "light"
     },
     "output_type": "display_data"
    }
   ],
   "source": [
    "sns.heatmap(tc,annot=True)"
   ]
  },
  {
   "cell_type": "markdown",
   "metadata": {
    "papermill": {
     "duration": 0.137503,
     "end_time": "2021-09-27T11:47:03.631827",
     "exception": false,
     "start_time": "2021-09-27T11:47:03.494324",
     "status": "completed"
    },
    "tags": []
   },
   "source": [
    "# Building the model"
   ]
  },
  {
   "cell_type": "code",
   "execution_count": 36,
   "metadata": {
    "execution": {
     "iopub.execute_input": "2021-09-27T11:47:03.912144Z",
     "iopub.status.busy": "2021-09-27T11:47:03.911431Z",
     "iopub.status.idle": "2021-09-27T11:47:03.914185Z",
     "shell.execute_reply": "2021-09-27T11:47:03.914759Z",
     "shell.execute_reply.started": "2021-09-27T10:40:41.040022Z"
    },
    "papermill": {
     "duration": 0.145882,
     "end_time": "2021-09-27T11:47:03.914974",
     "exception": false,
     "start_time": "2021-09-27T11:47:03.769092",
     "status": "completed"
    },
    "tags": []
   },
   "outputs": [
    {
     "data": {
      "text/plain": [
       "Index(['department', 'region', 'education', 'gender', 'recruitment_channel',\n",
       "       'no_of_trainings', 'age', 'previous_year_rating', 'length_of_service',\n",
       "       'awards_won', 'avg_training_score', 'is_promoted'],\n",
       "      dtype='object')"
      ]
     },
     "execution_count": 36,
     "metadata": {},
     "output_type": "execute_result"
    }
   ],
   "source": [
    "df.columns"
   ]
  },
  {
   "cell_type": "code",
   "execution_count": 37,
   "metadata": {
    "execution": {
     "iopub.execute_input": "2021-09-27T11:47:04.193967Z",
     "iopub.status.busy": "2021-09-27T11:47:04.193159Z",
     "iopub.status.idle": "2021-09-27T11:47:04.203065Z",
     "shell.execute_reply": "2021-09-27T11:47:04.202450Z",
     "shell.execute_reply.started": "2021-09-27T10:48:07.284428Z"
    },
    "papermill": {
     "duration": 0.151356,
     "end_time": "2021-09-27T11:47:04.203237",
     "exception": false,
     "start_time": "2021-09-27T11:47:04.051881",
     "status": "completed"
    },
    "tags": []
   },
   "outputs": [],
   "source": [
    "X = df[['department', 'region', 'education', 'gender', 'recruitment_channel',\n",
    "       'no_of_trainings', 'age', 'previous_year_rating', 'length_of_service',\n",
    "       'awards_won', 'avg_training_score']]\n",
    "Y = df[['is_promoted']]"
   ]
  },
  {
   "cell_type": "code",
   "execution_count": 70,
   "metadata": {},
   "outputs": [
    {
     "data": {
      "text/html": [
       "<div>\n",
       "<style scoped>\n",
       "    .dataframe tbody tr th:only-of-type {\n",
       "        vertical-align: middle;\n",
       "    }\n",
       "\n",
       "    .dataframe tbody tr th {\n",
       "        vertical-align: top;\n",
       "    }\n",
       "\n",
       "    .dataframe thead th {\n",
       "        text-align: right;\n",
       "    }\n",
       "</style>\n",
       "<table border=\"1\" class=\"dataframe\">\n",
       "  <thead>\n",
       "    <tr style=\"text-align: right;\">\n",
       "      <th></th>\n",
       "      <th>department</th>\n",
       "      <th>region</th>\n",
       "      <th>education</th>\n",
       "      <th>gender</th>\n",
       "      <th>recruitment_channel</th>\n",
       "      <th>no_of_trainings</th>\n",
       "      <th>age</th>\n",
       "      <th>previous_year_rating</th>\n",
       "      <th>length_of_service</th>\n",
       "      <th>awards_won</th>\n",
       "      <th>avg_training_score</th>\n",
       "    </tr>\n",
       "  </thead>\n",
       "  <tbody>\n",
       "    <tr>\n",
       "      <th>0</th>\n",
       "      <td>7</td>\n",
       "      <td>31</td>\n",
       "      <td>2</td>\n",
       "      <td>0</td>\n",
       "      <td>2</td>\n",
       "      <td>1</td>\n",
       "      <td>35</td>\n",
       "      <td>5</td>\n",
       "      <td>8</td>\n",
       "      <td>0</td>\n",
       "      <td>49</td>\n",
       "    </tr>\n",
       "    <tr>\n",
       "      <th>1</th>\n",
       "      <td>4</td>\n",
       "      <td>14</td>\n",
       "      <td>0</td>\n",
       "      <td>1</td>\n",
       "      <td>0</td>\n",
       "      <td>1</td>\n",
       "      <td>30</td>\n",
       "      <td>5</td>\n",
       "      <td>4</td>\n",
       "      <td>0</td>\n",
       "      <td>60</td>\n",
       "    </tr>\n",
       "    <tr>\n",
       "      <th>2</th>\n",
       "      <td>7</td>\n",
       "      <td>10</td>\n",
       "      <td>0</td>\n",
       "      <td>1</td>\n",
       "      <td>2</td>\n",
       "      <td>1</td>\n",
       "      <td>34</td>\n",
       "      <td>3</td>\n",
       "      <td>7</td>\n",
       "      <td>0</td>\n",
       "      <td>50</td>\n",
       "    </tr>\n",
       "    <tr>\n",
       "      <th>3</th>\n",
       "      <td>7</td>\n",
       "      <td>15</td>\n",
       "      <td>0</td>\n",
       "      <td>1</td>\n",
       "      <td>0</td>\n",
       "      <td>2</td>\n",
       "      <td>39</td>\n",
       "      <td>1</td>\n",
       "      <td>10</td>\n",
       "      <td>0</td>\n",
       "      <td>50</td>\n",
       "    </tr>\n",
       "    <tr>\n",
       "      <th>4</th>\n",
       "      <td>8</td>\n",
       "      <td>18</td>\n",
       "      <td>0</td>\n",
       "      <td>1</td>\n",
       "      <td>0</td>\n",
       "      <td>1</td>\n",
       "      <td>45</td>\n",
       "      <td>3</td>\n",
       "      <td>2</td>\n",
       "      <td>0</td>\n",
       "      <td>73</td>\n",
       "    </tr>\n",
       "    <tr>\n",
       "      <th>...</th>\n",
       "      <td>...</td>\n",
       "      <td>...</td>\n",
       "      <td>...</td>\n",
       "      <td>...</td>\n",
       "      <td>...</td>\n",
       "      <td>...</td>\n",
       "      <td>...</td>\n",
       "      <td>...</td>\n",
       "      <td>...</td>\n",
       "      <td>...</td>\n",
       "      <td>...</td>\n",
       "    </tr>\n",
       "    <tr>\n",
       "      <th>54803</th>\n",
       "      <td>8</td>\n",
       "      <td>5</td>\n",
       "      <td>0</td>\n",
       "      <td>1</td>\n",
       "      <td>2</td>\n",
       "      <td>1</td>\n",
       "      <td>48</td>\n",
       "      <td>3</td>\n",
       "      <td>17</td>\n",
       "      <td>0</td>\n",
       "      <td>78</td>\n",
       "    </tr>\n",
       "    <tr>\n",
       "      <th>54804</th>\n",
       "      <td>4</td>\n",
       "      <td>19</td>\n",
       "      <td>2</td>\n",
       "      <td>0</td>\n",
       "      <td>0</td>\n",
       "      <td>1</td>\n",
       "      <td>37</td>\n",
       "      <td>2</td>\n",
       "      <td>6</td>\n",
       "      <td>0</td>\n",
       "      <td>56</td>\n",
       "    </tr>\n",
       "    <tr>\n",
       "      <th>54805</th>\n",
       "      <td>0</td>\n",
       "      <td>0</td>\n",
       "      <td>0</td>\n",
       "      <td>1</td>\n",
       "      <td>0</td>\n",
       "      <td>1</td>\n",
       "      <td>27</td>\n",
       "      <td>5</td>\n",
       "      <td>3</td>\n",
       "      <td>0</td>\n",
       "      <td>79</td>\n",
       "    </tr>\n",
       "    <tr>\n",
       "      <th>54806</th>\n",
       "      <td>7</td>\n",
       "      <td>33</td>\n",
       "      <td>3</td>\n",
       "      <td>1</td>\n",
       "      <td>2</td>\n",
       "      <td>1</td>\n",
       "      <td>29</td>\n",
       "      <td>1</td>\n",
       "      <td>2</td>\n",
       "      <td>0</td>\n",
       "      <td>0</td>\n",
       "    </tr>\n",
       "    <tr>\n",
       "      <th>54807</th>\n",
       "      <td>2</td>\n",
       "      <td>14</td>\n",
       "      <td>0</td>\n",
       "      <td>1</td>\n",
       "      <td>0</td>\n",
       "      <td>1</td>\n",
       "      <td>27</td>\n",
       "      <td>1</td>\n",
       "      <td>5</td>\n",
       "      <td>0</td>\n",
       "      <td>49</td>\n",
       "    </tr>\n",
       "  </tbody>\n",
       "</table>\n",
       "<p>54808 rows × 11 columns</p>\n",
       "</div>"
      ],
      "text/plain": [
       "       department  region  education  gender  recruitment_channel  \\\n",
       "0               7      31          2       0                    2   \n",
       "1               4      14          0       1                    0   \n",
       "2               7      10          0       1                    2   \n",
       "3               7      15          0       1                    0   \n",
       "4               8      18          0       1                    0   \n",
       "...           ...     ...        ...     ...                  ...   \n",
       "54803           8       5          0       1                    2   \n",
       "54804           4      19          2       0                    0   \n",
       "54805           0       0          0       1                    0   \n",
       "54806           7      33          3       1                    2   \n",
       "54807           2      14          0       1                    0   \n",
       "\n",
       "       no_of_trainings  age  previous_year_rating  length_of_service  \\\n",
       "0                    1   35                     5                  8   \n",
       "1                    1   30                     5                  4   \n",
       "2                    1   34                     3                  7   \n",
       "3                    2   39                     1                 10   \n",
       "4                    1   45                     3                  2   \n",
       "...                ...  ...                   ...                ...   \n",
       "54803                1   48                     3                 17   \n",
       "54804                1   37                     2                  6   \n",
       "54805                1   27                     5                  3   \n",
       "54806                1   29                     1                  2   \n",
       "54807                1   27                     1                  5   \n",
       "\n",
       "       awards_won  avg_training_score  \n",
       "0               0                  49  \n",
       "1               0                  60  \n",
       "2               0                  50  \n",
       "3               0                  50  \n",
       "4               0                  73  \n",
       "...           ...                 ...  \n",
       "54803           0                  78  \n",
       "54804           0                  56  \n",
       "54805           0                  79  \n",
       "54806           0                   0  \n",
       "54807           0                  49  \n",
       "\n",
       "[54808 rows x 11 columns]"
      ]
     },
     "execution_count": 70,
     "metadata": {},
     "output_type": "execute_result"
    }
   ],
   "source": [
    "X"
   ]
  },
  {
   "cell_type": "code",
   "execution_count": 38,
   "metadata": {
    "execution": {
     "iopub.execute_input": "2021-09-27T11:47:04.508540Z",
     "iopub.status.busy": "2021-09-27T11:47:04.507808Z",
     "iopub.status.idle": "2021-09-27T11:47:04.527262Z",
     "shell.execute_reply": "2021-09-27T11:47:04.526515Z",
     "shell.execute_reply.started": "2021-09-27T10:48:11.836629Z"
    },
    "papermill": {
     "duration": 0.162033,
     "end_time": "2021-09-27T11:47:04.527447",
     "exception": false,
     "start_time": "2021-09-27T11:47:04.365414",
     "status": "completed"
    },
    "tags": []
   },
   "outputs": [],
   "source": [
    "X_train,X_test,Y_train,Y_test = train_test_split(X,Y,test_size=0.3)"
   ]
  },
  {
   "cell_type": "code",
   "execution_count": 39,
   "metadata": {
    "execution": {
     "iopub.execute_input": "2021-09-27T11:47:04.810705Z",
     "iopub.status.busy": "2021-09-27T11:47:04.809797Z",
     "iopub.status.idle": "2021-09-27T11:47:04.814034Z",
     "shell.execute_reply": "2021-09-27T11:47:04.813486Z",
     "shell.execute_reply.started": "2021-09-27T10:49:03.882805Z"
    },
    "papermill": {
     "duration": 0.148379,
     "end_time": "2021-09-27T11:47:04.814191",
     "exception": false,
     "start_time": "2021-09-27T11:47:04.665812",
     "status": "completed"
    },
    "tags": []
   },
   "outputs": [
    {
     "name": "stdout",
     "output_type": "stream",
     "text": [
      "(38365, 11)\n",
      "(38365, 1)\n",
      "(16443, 11)\n",
      "(16443, 1)\n"
     ]
    }
   ],
   "source": [
    "print(X_train.shape)\n",
    "print(Y_train.shape)\n",
    "print(X_test.shape)\n",
    "print(Y_test.shape)"
   ]
  },
  {
   "cell_type": "markdown",
   "metadata": {
    "papermill": {
     "duration": 0.137911,
     "end_time": "2021-09-27T11:47:05.088445",
     "exception": false,
     "start_time": "2021-09-27T11:47:04.950534",
     "status": "completed"
    },
    "tags": []
   },
   "source": [
    "# Logistic Regression"
   ]
  },
  {
   "cell_type": "code",
   "execution_count": 40,
   "metadata": {
    "execution": {
     "iopub.execute_input": "2021-09-27T11:47:05.371711Z",
     "iopub.status.busy": "2021-09-27T11:47:05.370489Z",
     "iopub.status.idle": "2021-09-27T11:47:05.373244Z",
     "shell.execute_reply": "2021-09-27T11:47:05.372683Z",
     "shell.execute_reply.started": "2021-09-27T10:53:20.036855Z"
    },
    "papermill": {
     "duration": 0.146195,
     "end_time": "2021-09-27T11:47:05.373428",
     "exception": false,
     "start_time": "2021-09-27T11:47:05.227233",
     "status": "completed"
    },
    "tags": []
   },
   "outputs": [],
   "source": [
    "model = LogisticRegression(solver='liblinear')"
   ]
  },
  {
   "cell_type": "code",
   "execution_count": 41,
   "metadata": {
    "execution": {
     "iopub.execute_input": "2021-09-27T11:47:05.656023Z",
     "iopub.status.busy": "2021-09-27T11:47:05.655205Z",
     "iopub.status.idle": "2021-09-27T11:47:06.050740Z",
     "shell.execute_reply": "2021-09-27T11:47:06.050103Z",
     "shell.execute_reply.started": "2021-09-27T10:53:24.339960Z"
    },
    "papermill": {
     "duration": 0.539814,
     "end_time": "2021-09-27T11:47:06.050919",
     "exception": false,
     "start_time": "2021-09-27T11:47:05.511105",
     "status": "completed"
    },
    "tags": []
   },
   "outputs": [
    {
     "name": "stderr",
     "output_type": "stream",
     "text": [
      "C:\\Users\\HP\\anaconda3\\lib\\site-packages\\sklearn\\utils\\validation.py:985: DataConversionWarning: A column-vector y was passed when a 1d array was expected. Please change the shape of y to (n_samples, ), for example using ravel().\n",
      "  y = column_or_1d(y, warn=True)\n"
     ]
    },
    {
     "data": {
      "text/plain": [
       "LogisticRegression(solver='liblinear')"
      ]
     },
     "execution_count": 41,
     "metadata": {},
     "output_type": "execute_result"
    }
   ],
   "source": [
    "model.fit(X_train,Y_train)"
   ]
  },
  {
   "cell_type": "code",
   "execution_count": 42,
   "metadata": {
    "execution": {
     "iopub.execute_input": "2021-09-27T11:47:06.340962Z",
     "iopub.status.busy": "2021-09-27T11:47:06.339511Z",
     "iopub.status.idle": "2021-09-27T11:47:06.343855Z",
     "shell.execute_reply": "2021-09-27T11:47:06.344994Z",
     "shell.execute_reply.started": "2021-09-27T10:53:49.455903Z"
    },
    "papermill": {
     "duration": 0.155813,
     "end_time": "2021-09-27T11:47:06.345330",
     "exception": false,
     "start_time": "2021-09-27T11:47:06.189517",
     "status": "completed"
    },
    "tags": []
   },
   "outputs": [],
   "source": [
    "pred = model.predict(X_test)"
   ]
  },
  {
   "cell_type": "code",
   "execution_count": 43,
   "metadata": {
    "execution": {
     "iopub.execute_input": "2021-09-27T11:47:06.680830Z",
     "iopub.status.busy": "2021-09-27T11:47:06.680075Z",
     "iopub.status.idle": "2021-09-27T11:47:06.682652Z",
     "shell.execute_reply": "2021-09-27T11:47:06.683119Z",
     "shell.execute_reply.started": "2021-09-27T10:55:57.591372Z"
    },
    "papermill": {
     "duration": 0.148032,
     "end_time": "2021-09-27T11:47:06.683325",
     "exception": false,
     "start_time": "2021-09-27T11:47:06.535293",
     "status": "completed"
    },
    "tags": []
   },
   "outputs": [],
   "source": [
    "from sklearn.metrics import f1_score\n",
    "from sklearn.metrics import precision_score\n",
    "from sklearn.metrics import recall_score"
   ]
  },
  {
   "cell_type": "code",
   "execution_count": 44,
   "metadata": {
    "execution": {
     "iopub.execute_input": "2021-09-27T11:47:06.965296Z",
     "iopub.status.busy": "2021-09-27T11:47:06.964069Z",
     "iopub.status.idle": "2021-09-27T11:47:06.971421Z",
     "shell.execute_reply": "2021-09-27T11:47:06.970724Z",
     "shell.execute_reply.started": "2021-09-27T10:57:09.772731Z"
    },
    "papermill": {
     "duration": 0.151227,
     "end_time": "2021-09-27T11:47:06.971593",
     "exception": false,
     "start_time": "2021-09-27T11:47:06.820366",
     "status": "completed"
    },
    "tags": []
   },
   "outputs": [
    {
     "name": "stdout",
     "output_type": "stream",
     "text": [
      "The Accuracy score is  91.68643191631696 %\n"
     ]
    }
   ],
   "source": [
    "print('The Accuracy score is ',(metrics.accuracy_score(Y_test,pred)*100),'%')"
   ]
  },
  {
   "cell_type": "code",
   "execution_count": 45,
   "metadata": {
    "execution": {
     "iopub.execute_input": "2021-09-27T11:47:07.257143Z",
     "iopub.status.busy": "2021-09-27T11:47:07.256316Z",
     "iopub.status.idle": "2021-09-27T11:47:07.279581Z",
     "shell.execute_reply": "2021-09-27T11:47:07.280066Z",
     "shell.execute_reply.started": "2021-09-27T10:59:00.136261Z"
    },
    "papermill": {
     "duration": 0.170569,
     "end_time": "2021-09-27T11:47:07.280281",
     "exception": false,
     "start_time": "2021-09-27T11:47:07.109712",
     "status": "completed"
    },
    "tags": []
   },
   "outputs": [
    {
     "name": "stdout",
     "output_type": "stream",
     "text": [
      "The Precision score is  73.72262773722628 %\n",
      "The F1 score is  12.874442319949015 %\n",
      "The recall score is  7.0530726256983245 %\n"
     ]
    }
   ],
   "source": [
    "print('The Precision score is ',(metrics.precision_score(Y_test,pred)*100),'%')\n",
    "print('The F1 score is ',(metrics.f1_score(Y_test,pred)*100),'%')\n",
    "print('The recall score is ',(metrics.recall_score(Y_test,pred)*100),'%')"
   ]
  },
  {
   "cell_type": "markdown",
   "metadata": {
    "papermill": {
     "duration": 0.137806,
     "end_time": "2021-09-27T11:47:07.556047",
     "exception": false,
     "start_time": "2021-09-27T11:47:07.418241",
     "status": "completed"
    },
    "tags": []
   },
   "source": [
    "# Bagging & Boosting"
   ]
  },
  {
   "cell_type": "markdown",
   "metadata": {
    "papermill": {
     "duration": 0.139215,
     "end_time": "2021-09-27T11:47:07.834670",
     "exception": false,
     "start_time": "2021-09-27T11:47:07.695455",
     "status": "completed"
    },
    "tags": []
   },
   "source": [
    "# Random forest Classifier"
   ]
  },
  {
   "cell_type": "code",
   "execution_count": 46,
   "metadata": {
    "execution": {
     "iopub.execute_input": "2021-09-27T11:47:08.118828Z",
     "iopub.status.busy": "2021-09-27T11:47:08.117944Z",
     "iopub.status.idle": "2021-09-27T11:47:08.270031Z",
     "shell.execute_reply": "2021-09-27T11:47:08.270659Z",
     "shell.execute_reply.started": "2021-09-27T11:03:56.736861Z"
    },
    "papermill": {
     "duration": 0.298214,
     "end_time": "2021-09-27T11:47:08.270913",
     "exception": false,
     "start_time": "2021-09-27T11:47:07.972699",
     "status": "completed"
    },
    "tags": []
   },
   "outputs": [],
   "source": [
    "from sklearn.ensemble import RandomForestClassifier"
   ]
  },
  {
   "cell_type": "code",
   "execution_count": 47,
   "metadata": {
    "execution": {
     "iopub.execute_input": "2021-09-27T11:47:08.552042Z",
     "iopub.status.busy": "2021-09-27T11:47:08.550848Z",
     "iopub.status.idle": "2021-09-27T11:47:08.554868Z",
     "shell.execute_reply": "2021-09-27T11:47:08.555337Z",
     "shell.execute_reply.started": "2021-09-27T11:04:01.990368Z"
    },
    "papermill": {
     "duration": 0.146633,
     "end_time": "2021-09-27T11:47:08.555580",
     "exception": false,
     "start_time": "2021-09-27T11:47:08.408947",
     "status": "completed"
    },
    "tags": []
   },
   "outputs": [],
   "source": [
    "model_rf = RandomForestClassifier()"
   ]
  },
  {
   "cell_type": "code",
   "execution_count": 48,
   "metadata": {
    "execution": {
     "iopub.execute_input": "2021-09-27T11:47:08.838043Z",
     "iopub.status.busy": "2021-09-27T11:47:08.836898Z",
     "iopub.status.idle": "2021-09-27T11:47:12.885173Z",
     "shell.execute_reply": "2021-09-27T11:47:12.884560Z",
     "shell.execute_reply.started": "2021-09-27T11:04:29.713651Z"
    },
    "papermill": {
     "duration": 4.190602,
     "end_time": "2021-09-27T11:47:12.885332",
     "exception": false,
     "start_time": "2021-09-27T11:47:08.694730",
     "status": "completed"
    },
    "tags": []
   },
   "outputs": [
    {
     "name": "stderr",
     "output_type": "stream",
     "text": [
      "C:\\Users\\HP\\anaconda3\\lib\\site-packages\\ipykernel_launcher.py:1: DataConversionWarning: A column-vector y was passed when a 1d array was expected. Please change the shape of y to (n_samples,), for example using ravel().\n",
      "  \"\"\"Entry point for launching an IPython kernel.\n"
     ]
    },
    {
     "data": {
      "text/plain": [
       "RandomForestClassifier()"
      ]
     },
     "execution_count": 48,
     "metadata": {},
     "output_type": "execute_result"
    }
   ],
   "source": [
    "model_rf.fit(X_train,Y_train)"
   ]
  },
  {
   "cell_type": "code",
   "execution_count": 49,
   "metadata": {
    "execution": {
     "iopub.execute_input": "2021-09-27T11:47:13.174507Z",
     "iopub.status.busy": "2021-09-27T11:47:13.173717Z",
     "iopub.status.idle": "2021-09-27T11:47:13.570447Z",
     "shell.execute_reply": "2021-09-27T11:47:13.569698Z",
     "shell.execute_reply.started": "2021-09-27T11:05:14.378257Z"
    },
    "papermill": {
     "duration": 0.544578,
     "end_time": "2021-09-27T11:47:13.570621",
     "exception": false,
     "start_time": "2021-09-27T11:47:13.026043",
     "status": "completed"
    },
    "tags": []
   },
   "outputs": [],
   "source": [
    "pred_rf = model_rf.predict(X_test)"
   ]
  },
  {
   "cell_type": "code",
   "execution_count": 50,
   "metadata": {
    "execution": {
     "iopub.execute_input": "2021-09-27T11:47:13.862044Z",
     "iopub.status.busy": "2021-09-27T11:47:13.861000Z",
     "iopub.status.idle": "2021-09-27T11:47:13.885109Z",
     "shell.execute_reply": "2021-09-27T11:47:13.884499Z",
     "shell.execute_reply.started": "2021-09-27T11:06:19.525166Z"
    },
    "papermill": {
     "duration": 0.173572,
     "end_time": "2021-09-27T11:47:13.885275",
     "exception": false,
     "start_time": "2021-09-27T11:47:13.711703",
     "status": "completed"
    },
    "tags": []
   },
   "outputs": [
    {
     "name": "stdout",
     "output_type": "stream",
     "text": [
      "The Accuracy score is  93.45010034665208 %\n",
      "The Precision score is  89.3569844789357 %\n",
      "The F1 score is  42.804036112586296 %\n",
      "The recall score is  28.14245810055866 %\n"
     ]
    }
   ],
   "source": [
    "print('The Accuracy score is ',(metrics.accuracy_score(Y_test,pred_rf)*100),'%')\n",
    "print('The Precision score is ',(metrics.precision_score(Y_test,pred_rf)*100),'%')\n",
    "print('The F1 score is ',(metrics.f1_score(Y_test,pred_rf)*100),'%')\n",
    "print('The recall score is ',(metrics.recall_score(Y_test,pred_rf)*100),'%')"
   ]
  },
  {
   "cell_type": "code",
   "execution_count": 51,
   "metadata": {
    "execution": {
     "iopub.execute_input": "2021-09-27T11:47:14.168430Z",
     "iopub.status.busy": "2021-09-27T11:47:14.167615Z",
     "iopub.status.idle": "2021-09-27T11:47:14.262326Z",
     "shell.execute_reply": "2021-09-27T11:47:14.261660Z",
     "shell.execute_reply.started": "2021-09-27T11:13:17.682246Z"
    },
    "papermill": {
     "duration": 0.238636,
     "end_time": "2021-09-27T11:47:14.262506",
     "exception": false,
     "start_time": "2021-09-27T11:47:14.023870",
     "status": "completed"
    },
    "tags": []
   },
   "outputs": [],
   "source": [
    "from sklearn.ensemble import BaggingClassifier\n",
    "from xgboost import XGBClassifier\n",
    "from sklearn.ensemble import AdaBoostClassifier\n",
    "from sklearn.ensemble import GradientBoostingClassifier"
   ]
  },
  {
   "cell_type": "markdown",
   "metadata": {
    "papermill": {
     "duration": 0.139618,
     "end_time": "2021-09-27T11:47:14.541474",
     "exception": false,
     "start_time": "2021-09-27T11:47:14.401856",
     "status": "completed"
    },
    "tags": []
   },
   "source": [
    "## Bagging Classifier"
   ]
  },
  {
   "cell_type": "code",
   "execution_count": 52,
   "metadata": {
    "execution": {
     "iopub.execute_input": "2021-09-27T11:47:14.826182Z",
     "iopub.status.busy": "2021-09-27T11:47:14.824513Z",
     "iopub.status.idle": "2021-09-27T11:47:14.828018Z",
     "shell.execute_reply": "2021-09-27T11:47:14.828565Z",
     "shell.execute_reply.started": "2021-09-27T11:13:58.902600Z"
    },
    "papermill": {
     "duration": 0.146879,
     "end_time": "2021-09-27T11:47:14.828780",
     "exception": false,
     "start_time": "2021-09-27T11:47:14.681901",
     "status": "completed"
    },
    "tags": []
   },
   "outputs": [],
   "source": [
    "model_bc = BaggingClassifier()"
   ]
  },
  {
   "cell_type": "code",
   "execution_count": 53,
   "metadata": {
    "execution": {
     "iopub.execute_input": "2021-09-27T11:47:15.116552Z",
     "iopub.status.busy": "2021-09-27T11:47:15.115795Z",
     "iopub.status.idle": "2021-09-27T11:47:16.200820Z",
     "shell.execute_reply": "2021-09-27T11:47:16.200187Z",
     "shell.execute_reply.started": "2021-09-27T11:14:59.383021Z"
    },
    "papermill": {
     "duration": 1.233109,
     "end_time": "2021-09-27T11:47:16.200999",
     "exception": false,
     "start_time": "2021-09-27T11:47:14.967890",
     "status": "completed"
    },
    "tags": []
   },
   "outputs": [
    {
     "name": "stderr",
     "output_type": "stream",
     "text": [
      "C:\\Users\\HP\\anaconda3\\lib\\site-packages\\sklearn\\ensemble\\_bagging.py:719: DataConversionWarning: A column-vector y was passed when a 1d array was expected. Please change the shape of y to (n_samples, ), for example using ravel().\n",
      "  y = column_or_1d(y, warn=True)\n"
     ]
    },
    {
     "data": {
      "text/plain": [
       "BaggingClassifier()"
      ]
     },
     "execution_count": 53,
     "metadata": {},
     "output_type": "execute_result"
    }
   ],
   "source": [
    "model_bc.fit(X_train,Y_train)"
   ]
  },
  {
   "cell_type": "code",
   "execution_count": 54,
   "metadata": {
    "execution": {
     "iopub.execute_input": "2021-09-27T11:47:16.489288Z",
     "iopub.status.busy": "2021-09-27T11:47:16.488552Z",
     "iopub.status.idle": "2021-09-27T11:47:16.536645Z",
     "shell.execute_reply": "2021-09-27T11:47:16.537175Z",
     "shell.execute_reply.started": "2021-09-27T11:15:55.839104Z"
    },
    "papermill": {
     "duration": 0.196571,
     "end_time": "2021-09-27T11:47:16.537440",
     "exception": false,
     "start_time": "2021-09-27T11:47:16.340869",
     "status": "completed"
    },
    "tags": []
   },
   "outputs": [],
   "source": [
    "pred_bc = model_bc.predict(X_test)"
   ]
  },
  {
   "cell_type": "code",
   "execution_count": 55,
   "metadata": {
    "execution": {
     "iopub.execute_input": "2021-09-27T11:47:16.822408Z",
     "iopub.status.busy": "2021-09-27T11:47:16.821622Z",
     "iopub.status.idle": "2021-09-27T11:47:16.848668Z",
     "shell.execute_reply": "2021-09-27T11:47:16.849151Z",
     "shell.execute_reply.started": "2021-09-27T11:16:51.530970Z"
    },
    "papermill": {
     "duration": 0.171632,
     "end_time": "2021-09-27T11:47:16.849373",
     "exception": false,
     "start_time": "2021-09-27T11:47:16.677741",
     "status": "completed"
    },
    "tags": []
   },
   "outputs": [
    {
     "name": "stdout",
     "output_type": "stream",
     "text": [
      "The Accuracy score is  93.2189989661254 %\n",
      "The Precision score is  75.27910685805422 %\n",
      "The F1 score is  45.84749878581836 %\n",
      "The recall score is  32.960893854748605 %\n"
     ]
    }
   ],
   "source": [
    "print('The Accuracy score is ',(metrics.accuracy_score(Y_test,pred_bc)*100),'%')\n",
    "print('The Precision score is ',(metrics.precision_score(Y_test,pred_bc)*100),'%')\n",
    "print('The F1 score is ',(metrics.f1_score(Y_test,pred_bc)*100),'%')\n",
    "print('The recall score is ',(metrics.recall_score(Y_test,pred_bc)*100),'%')"
   ]
  },
  {
   "cell_type": "markdown",
   "metadata": {
    "papermill": {
     "duration": 0.141064,
     "end_time": "2021-09-27T11:47:17.129714",
     "exception": false,
     "start_time": "2021-09-27T11:47:16.988650",
     "status": "completed"
    },
    "tags": []
   },
   "source": [
    "## AdaBoost Classifier"
   ]
  },
  {
   "cell_type": "code",
   "execution_count": 56,
   "metadata": {
    "execution": {
     "iopub.execute_input": "2021-09-27T11:47:17.414715Z",
     "iopub.status.busy": "2021-09-27T11:47:17.413941Z",
     "iopub.status.idle": "2021-09-27T11:47:17.417219Z",
     "shell.execute_reply": "2021-09-27T11:47:17.417837Z",
     "shell.execute_reply.started": "2021-09-27T11:19:18.367816Z"
    },
    "papermill": {
     "duration": 0.148728,
     "end_time": "2021-09-27T11:47:17.418045",
     "exception": false,
     "start_time": "2021-09-27T11:47:17.269317",
     "status": "completed"
    },
    "tags": []
   },
   "outputs": [],
   "source": [
    "model_ab = AdaBoostClassifier()"
   ]
  },
  {
   "cell_type": "code",
   "execution_count": 57,
   "metadata": {
    "execution": {
     "iopub.execute_input": "2021-09-27T11:47:17.705305Z",
     "iopub.status.busy": "2021-09-27T11:47:17.704448Z",
     "iopub.status.idle": "2021-09-27T11:47:18.908586Z",
     "shell.execute_reply": "2021-09-27T11:47:18.909277Z",
     "shell.execute_reply.started": "2021-09-27T11:19:23.564562Z"
    },
    "papermill": {
     "duration": 1.349097,
     "end_time": "2021-09-27T11:47:18.909516",
     "exception": false,
     "start_time": "2021-09-27T11:47:17.560419",
     "status": "completed"
    },
    "tags": []
   },
   "outputs": [
    {
     "name": "stderr",
     "output_type": "stream",
     "text": [
      "C:\\Users\\HP\\anaconda3\\lib\\site-packages\\sklearn\\utils\\validation.py:985: DataConversionWarning: A column-vector y was passed when a 1d array was expected. Please change the shape of y to (n_samples, ), for example using ravel().\n",
      "  y = column_or_1d(y, warn=True)\n"
     ]
    },
    {
     "data": {
      "text/plain": [
       "AdaBoostClassifier()"
      ]
     },
     "execution_count": 57,
     "metadata": {},
     "output_type": "execute_result"
    }
   ],
   "source": [
    "model_ab.fit(X_train,Y_train)"
   ]
  },
  {
   "cell_type": "code",
   "execution_count": 58,
   "metadata": {
    "execution": {
     "iopub.execute_input": "2021-09-27T11:47:19.220834Z",
     "iopub.status.busy": "2021-09-27T11:47:19.220006Z",
     "iopub.status.idle": "2021-09-27T11:47:19.395015Z",
     "shell.execute_reply": "2021-09-27T11:47:19.395995Z",
     "shell.execute_reply.started": "2021-09-27T11:19:49.349047Z"
    },
    "papermill": {
     "duration": 0.33693,
     "end_time": "2021-09-27T11:47:19.396343",
     "exception": false,
     "start_time": "2021-09-27T11:47:19.059413",
     "status": "completed"
    },
    "tags": []
   },
   "outputs": [],
   "source": [
    "pred_ab = model_ab.predict(X_test)"
   ]
  },
  {
   "cell_type": "code",
   "execution_count": 59,
   "metadata": {
    "execution": {
     "iopub.execute_input": "2021-09-27T11:47:19.717712Z",
     "iopub.status.busy": "2021-09-27T11:47:19.711406Z",
     "iopub.status.idle": "2021-09-27T11:47:19.749081Z",
     "shell.execute_reply": "2021-09-27T11:47:19.749807Z",
     "shell.execute_reply.started": "2021-09-27T11:20:11.158274Z"
    },
    "papermill": {
     "duration": 0.192858,
     "end_time": "2021-09-27T11:47:19.750024",
     "exception": false,
     "start_time": "2021-09-27T11:47:19.557166",
     "status": "completed"
    },
    "tags": []
   },
   "outputs": [
    {
     "name": "stdout",
     "output_type": "stream",
     "text": [
      "The Accuracy score is  92.41014413428206 %\n",
      "The Precision score is  83.82352941176471 %\n",
      "The F1 score is  26.760563380281692 %\n",
      "The recall score is  15.921787709497206 %\n"
     ]
    }
   ],
   "source": [
    "print('The Accuracy score is ',(metrics.accuracy_score(Y_test,pred_ab)*100),'%')\n",
    "print('The Precision score is ',(metrics.precision_score(Y_test,pred_ab)*100),'%')\n",
    "print('The F1 score is ',(metrics.f1_score(Y_test,pred_ab)*100),'%')\n",
    "print('The recall score is ',(metrics.recall_score(Y_test,pred_ab)*100),'%')"
   ]
  },
  {
   "cell_type": "markdown",
   "metadata": {
    "papermill": {
     "duration": 0.144289,
     "end_time": "2021-09-27T11:47:20.042636",
     "exception": false,
     "start_time": "2021-09-27T11:47:19.898347",
     "status": "completed"
    },
    "tags": []
   },
   "source": [
    "# Xgboosting "
   ]
  },
  {
   "cell_type": "code",
   "execution_count": 60,
   "metadata": {
    "execution": {
     "iopub.execute_input": "2021-09-27T11:47:20.329031Z",
     "iopub.status.busy": "2021-09-27T11:47:20.327879Z",
     "iopub.status.idle": "2021-09-27T11:47:20.332576Z",
     "shell.execute_reply": "2021-09-27T11:47:20.331877Z",
     "shell.execute_reply.started": "2021-09-27T11:21:15.916987Z"
    },
    "papermill": {
     "duration": 0.149235,
     "end_time": "2021-09-27T11:47:20.332747",
     "exception": false,
     "start_time": "2021-09-27T11:47:20.183512",
     "status": "completed"
    },
    "tags": []
   },
   "outputs": [],
   "source": [
    "model_xg = XGBClassifier()"
   ]
  },
  {
   "cell_type": "code",
   "execution_count": 61,
   "metadata": {
    "execution": {
     "iopub.execute_input": "2021-09-27T11:47:20.629065Z",
     "iopub.status.busy": "2021-09-27T11:47:20.627954Z",
     "iopub.status.idle": "2021-09-27T11:47:22.047212Z",
     "shell.execute_reply": "2021-09-27T11:47:22.046464Z",
     "shell.execute_reply.started": "2021-09-27T11:21:36.049248Z"
    },
    "papermill": {
     "duration": 1.568196,
     "end_time": "2021-09-27T11:47:22.047374",
     "exception": false,
     "start_time": "2021-09-27T11:47:20.479178",
     "status": "completed"
    },
    "tags": []
   },
   "outputs": [
    {
     "name": "stderr",
     "output_type": "stream",
     "text": [
      "C:\\Users\\HP\\anaconda3\\lib\\site-packages\\xgboost\\sklearn.py:1224: UserWarning: The use of label encoder in XGBClassifier is deprecated and will be removed in a future release. To remove this warning, do the following: 1) Pass option use_label_encoder=False when constructing XGBClassifier object; and 2) Encode your labels (y) as integers starting with 0, i.e. 0, 1, 2, ..., [num_class - 1].\n",
      "  warnings.warn(label_encoder_deprecation_msg, UserWarning)\n",
      "C:\\Users\\HP\\anaconda3\\lib\\site-packages\\sklearn\\preprocessing\\_label.py:98: DataConversionWarning: A column-vector y was passed when a 1d array was expected. Please change the shape of y to (n_samples, ), for example using ravel().\n",
      "  y = column_or_1d(y, warn=True)\n",
      "C:\\Users\\HP\\anaconda3\\lib\\site-packages\\sklearn\\preprocessing\\_label.py:133: DataConversionWarning: A column-vector y was passed when a 1d array was expected. Please change the shape of y to (n_samples, ), for example using ravel().\n",
      "  y = column_or_1d(y, warn=True)\n"
     ]
    },
    {
     "name": "stdout",
     "output_type": "stream",
     "text": [
      "[01:00:58] WARNING: C:/Users/Administrator/workspace/xgboost-win64_release_1.5.0/src/learner.cc:1115: Starting in XGBoost 1.3.0, the default evaluation metric used with the objective 'binary:logistic' was changed from 'error' to 'logloss'. Explicitly set eval_metric if you'd like to restore the old behavior.\n"
     ]
    },
    {
     "data": {
      "text/plain": [
       "XGBClassifier(base_score=0.5, booster='gbtree', colsample_bylevel=1,\n",
       "              colsample_bynode=1, colsample_bytree=1, enable_categorical=False,\n",
       "              gamma=0, gpu_id=-1, importance_type=None,\n",
       "              interaction_constraints='', learning_rate=0.300000012,\n",
       "              max_delta_step=0, max_depth=6, min_child_weight=1, missing=nan,\n",
       "              monotone_constraints='()', n_estimators=100, n_jobs=8,\n",
       "              num_parallel_tree=1, predictor='auto', random_state=0,\n",
       "              reg_alpha=0, reg_lambda=1, scale_pos_weight=1, subsample=1,\n",
       "              tree_method='exact', validate_parameters=1, verbosity=None)"
      ]
     },
     "execution_count": 61,
     "metadata": {},
     "output_type": "execute_result"
    }
   ],
   "source": [
    "model_xg.fit(X_train,Y_train)"
   ]
  },
  {
   "cell_type": "code",
   "execution_count": 62,
   "metadata": {
    "execution": {
     "iopub.execute_input": "2021-09-27T11:47:22.336191Z",
     "iopub.status.busy": "2021-09-27T11:47:22.335404Z",
     "iopub.status.idle": "2021-09-27T11:47:22.363377Z",
     "shell.execute_reply": "2021-09-27T11:47:22.364061Z",
     "shell.execute_reply.started": "2021-09-27T11:21:59.157668Z"
    },
    "papermill": {
     "duration": 0.176033,
     "end_time": "2021-09-27T11:47:22.364315",
     "exception": false,
     "start_time": "2021-09-27T11:47:22.188282",
     "status": "completed"
    },
    "tags": []
   },
   "outputs": [],
   "source": [
    "pred_xg = model_xg.predict(X_test)"
   ]
  },
  {
   "cell_type": "code",
   "execution_count": 63,
   "metadata": {
    "execution": {
     "iopub.execute_input": "2021-09-27T11:47:22.653355Z",
     "iopub.status.busy": "2021-09-27T11:47:22.652223Z",
     "iopub.status.idle": "2021-09-27T11:47:22.682260Z",
     "shell.execute_reply": "2021-09-27T11:47:22.682863Z",
     "shell.execute_reply.started": "2021-09-27T11:22:25.503681Z"
    },
    "papermill": {
     "duration": 0.175402,
     "end_time": "2021-09-27T11:47:22.683067",
     "exception": false,
     "start_time": "2021-09-27T11:47:22.507665",
     "status": "completed"
    },
    "tags": []
   },
   "outputs": [
    {
     "name": "stdout",
     "output_type": "stream",
     "text": [
      "The Accuracy score is  94.05826187435383 %\n",
      "The Precision score is  93.00567107750473 %\n",
      "The F1 score is  50.17848036715961 %\n",
      "The recall score is  34.357541899441344 %\n"
     ]
    }
   ],
   "source": [
    "print('The Accuracy score is ',(metrics.accuracy_score(Y_test,pred_xg)*100),'%')\n",
    "print('The Precision score is ',(metrics.precision_score(Y_test,pred_xg)*100),'%')\n",
    "print('The F1 score is ',(metrics.f1_score(Y_test,pred_xg)*100),'%')\n",
    "print('The recall score is ',(metrics.recall_score(Y_test,pred_xg)*100),'%')"
   ]
  },
  {
   "cell_type": "markdown",
   "metadata": {
    "papermill": {
     "duration": 0.14181,
     "end_time": "2021-09-27T11:47:22.966835",
     "exception": false,
     "start_time": "2021-09-27T11:47:22.825025",
     "status": "completed"
    },
    "tags": []
   },
   "source": [
    "## Gradient Boosting Classifier"
   ]
  },
  {
   "cell_type": "code",
   "execution_count": 64,
   "metadata": {
    "execution": {
     "iopub.execute_input": "2021-09-27T11:47:23.260188Z",
     "iopub.status.busy": "2021-09-27T11:47:23.258606Z",
     "iopub.status.idle": "2021-09-27T11:47:23.260905Z",
     "shell.execute_reply": "2021-09-27T11:47:23.261375Z",
     "shell.execute_reply.started": "2021-09-27T11:25:20.608421Z"
    },
    "papermill": {
     "duration": 0.151035,
     "end_time": "2021-09-27T11:47:23.261589",
     "exception": false,
     "start_time": "2021-09-27T11:47:23.110554",
     "status": "completed"
    },
    "tags": []
   },
   "outputs": [],
   "source": [
    "model_gb = GradientBoostingClassifier()"
   ]
  },
  {
   "cell_type": "code",
   "execution_count": 65,
   "metadata": {
    "execution": {
     "iopub.execute_input": "2021-09-27T11:47:23.555427Z",
     "iopub.status.busy": "2021-09-27T11:47:23.554105Z",
     "iopub.status.idle": "2021-09-27T11:47:27.282538Z",
     "shell.execute_reply": "2021-09-27T11:47:27.281674Z",
     "shell.execute_reply.started": "2021-09-27T11:25:47.162874Z"
    },
    "papermill": {
     "duration": 3.878689,
     "end_time": "2021-09-27T11:47:27.282733",
     "exception": false,
     "start_time": "2021-09-27T11:47:23.404044",
     "status": "completed"
    },
    "tags": []
   },
   "outputs": [
    {
     "name": "stderr",
     "output_type": "stream",
     "text": [
      "C:\\Users\\HP\\anaconda3\\lib\\site-packages\\sklearn\\ensemble\\_gb.py:494: DataConversionWarning: A column-vector y was passed when a 1d array was expected. Please change the shape of y to (n_samples, ), for example using ravel().\n",
      "  y = column_or_1d(y, warn=True)\n"
     ]
    },
    {
     "data": {
      "text/plain": [
       "GradientBoostingClassifier()"
      ]
     },
     "execution_count": 65,
     "metadata": {},
     "output_type": "execute_result"
    }
   ],
   "source": [
    "model_gb.fit(X_train,Y_train)"
   ]
  },
  {
   "cell_type": "code",
   "execution_count": 66,
   "metadata": {
    "execution": {
     "iopub.execute_input": "2021-09-27T11:47:27.584759Z",
     "iopub.status.busy": "2021-09-27T11:47:27.583895Z",
     "iopub.status.idle": "2021-09-27T11:47:27.620275Z",
     "shell.execute_reply": "2021-09-27T11:47:27.619567Z",
     "shell.execute_reply.started": "2021-09-27T11:26:17.150049Z"
    },
    "papermill": {
     "duration": 0.189532,
     "end_time": "2021-09-27T11:47:27.620499",
     "exception": false,
     "start_time": "2021-09-27T11:47:27.430967",
     "status": "completed"
    },
    "tags": []
   },
   "outputs": [],
   "source": [
    "pred_gb = model_gb.predict(X_test)"
   ]
  },
  {
   "cell_type": "code",
   "execution_count": 67,
   "metadata": {
    "execution": {
     "iopub.execute_input": "2021-09-27T11:47:27.916905Z",
     "iopub.status.busy": "2021-09-27T11:47:27.916031Z",
     "iopub.status.idle": "2021-09-27T11:47:27.940527Z",
     "shell.execute_reply": "2021-09-27T11:47:27.941101Z",
     "shell.execute_reply.started": "2021-09-27T11:26:39.937483Z"
    },
    "papermill": {
     "duration": 0.175762,
     "end_time": "2021-09-27T11:47:27.941329",
     "exception": false,
     "start_time": "2021-09-27T11:47:27.765567",
     "status": "completed"
    },
    "tags": []
   },
   "outputs": [
    {
     "name": "stdout",
     "output_type": "stream",
     "text": [
      "The Accuracy score is  93.71769141884084 %\n",
      "The Precision score is  95.03386004514672 %\n",
      "The F1 score is  44.906666666666666 %\n",
      "The recall score is  29.399441340782122 %\n"
     ]
    }
   ],
   "source": [
    "print('The Accuracy score is ',(metrics.accuracy_score(Y_test,pred_gb)*100),'%')\n",
    "print('The Precision score is ',(metrics.precision_score(Y_test,pred_gb)*100),'%')\n",
    "print('The F1 score is ',(metrics.f1_score(Y_test,pred_gb)*100),'%')\n",
    "print('The recall score is ',(metrics.recall_score(Y_test,pred_gb)*100),'%')"
   ]
  },
  {
   "cell_type": "markdown",
   "metadata": {
    "papermill": {
     "duration": 0.14361,
     "end_time": "2021-09-27T11:47:28.230898",
     "exception": false,
     "start_time": "2021-09-27T11:47:28.087288",
     "status": "completed"
    },
    "tags": []
   },
   "source": [
    "# XGBoost Classifier gives accuarcy score of 93.99%"
   ]
  },
  {
   "cell_type": "code",
   "execution_count": 69,
   "metadata": {
    "papermill": {
     "duration": 0.143151,
     "end_time": "2021-09-27T11:47:28.526156",
     "exception": false,
     "start_time": "2021-09-27T11:47:28.383005",
     "status": "completed"
    },
    "tags": []
   },
   "outputs": [],
   "source": [
    "import pickle\n",
    "Pkl_Filename = \"attr.pkl\"  \n",
    "pickle.dump(model_xg, open(Pkl_Filename, 'wb'))"
   ]
  }
 ],
 "metadata": {
  "kernelspec": {
   "display_name": "Python 3",
   "language": "python",
   "name": "python3"
  },
  "language_info": {
   "codemirror_mode": {
    "name": "ipython",
    "version": 3
   },
   "file_extension": ".py",
   "mimetype": "text/x-python",
   "name": "python",
   "nbconvert_exporter": "python",
   "pygments_lexer": "ipython3",
   "version": "3.7.6"
  },
  "papermill": {
   "default_parameters": {},
   "duration": 519.333246,
   "end_time": "2021-09-27T11:47:30.667989",
   "environment_variables": {},
   "exception": null,
   "input_path": "__notebook__.ipynb",
   "output_path": "__notebook__.ipynb",
   "parameters": {},
   "start_time": "2021-09-27T11:38:51.334743",
   "version": "2.3.3"
  }
 },
 "nbformat": 4,
 "nbformat_minor": 5
}
